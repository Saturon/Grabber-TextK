{
  "nbformat": 4,
  "nbformat_minor": 0,
  "metadata": {
    "colab": {
      "name": "Grabber+TextK",
      "provenance": [],
      "collapsed_sections": []
    },
    "kernelspec": {
      "name": "python3",
      "display_name": "Python 3"
    },
    "language_info": {
      "name": "python"
    }
  },
  "cells": [
    {
      "cell_type": "code",
      "metadata": {
        "id": "RTsGIRItalG3"
      },
      "source": [
        "import requests # Загрузка новостей с сайта.\n",
        "from bs4 import BeautifulSoup # Превращалка html в текст.\n",
        "import re\n",
        "import pandas as pd"
      ],
      "execution_count": null,
      "outputs": []
    },
    {
      "cell_type": "code",
      "metadata": {
        "colab": {
          "base_uri": "https://localhost:8080/"
        },
        "id": "IyPLHXWRdX_E",
        "outputId": "8a21c6f0-3377-491b-d895-6a1a2d1b181b"
      },
      "source": [
        "requests.get(\"https://www.rzn.info/\")"
      ],
      "execution_count": null,
      "outputs": [
        {
          "output_type": "execute_result",
          "data": {
            "text/plain": [
              "<Response [200]>"
            ]
          },
          "metadata": {},
          "execution_count": 2
        }
      ]
    },
    {
      "cell_type": "code",
      "source": [
        "h2s = []\n",
        "page = 'https://www.rzn.info/'\n",
        "h2 = BeautifulSoup(requests.get(page).text, \"html5lib\").find_all(\"a\", class_=\"stories-item__title-link\")\n",
        "h2s.extend(h2)\n",
        "print(h2s)"
      ],
      "metadata": {
        "colab": {
          "base_uri": "https://localhost:8080/"
        },
        "id": "BUV-TeqiSyYZ",
        "outputId": "43bedd39-24e7-4588-d823-a1b467076a03"
      },
      "execution_count": null,
      "outputs": [
        {
          "output_type": "stream",
          "name": "stdout",
          "text": [
            "[<a class=\"stories-item__title-link\" href=\"https://www.rzn.info/news/2022/5/26/v-ryazanskoj-oblasti-prostilis-s-tremya-voennosluzhashimi-pogibshimi-na-ukraine-252127.html\" target=\"_blank\">\n",
            "                                                            В Рязанской области простились с тремя военнослужащими, погибшими на У...\n",
            "                                                                                                                    </a>, <a class=\"stories-item__title-link\" href=\"https://www.rzn.info/news/2022/5/26/v-aleksandro-nevskom-v-dtp-popal-15-letnij-motociklist-252108.html\" target=\"_blank\">\n",
            "                                                            В Александро-Невском в ДТП попал 15-летний мотоциклист\n",
            "                                                                                                                    </a>, <a class=\"stories-item__title-link\" href=\"https://www.rzn.info/news/2022/5/26/centralnyj-bank-rossii-snizil-klyuchevuyu-stavku-do-11-252082.html\" target=\"_blank\">\n",
            "                                                            Центральный банк России снизил ключевую ставку до 11%\n",
            "                                                                                                                    </a>, <a class=\"stories-item__title-link\" href=\"https://www.rzn.info/news/2022/5/27/v-ryazani-velosipedist-vrezalsya-v-mashinu-252142.html\">\n",
            "                                                                В Рязани велосипедист врезался в машину\n",
            "                                                                                                                                                                                            </a>, <a class=\"stories-item__title-link\" href=\"https://www.rzn.info/news/2022/5/27/stali-izvestny-varianty-novogo-nazvaniya-mcdonald-s-v-rossii-252141.html\">\n",
            "                                                                Стали известны варианты нового названия McDonald’s в России\n",
            "                                                                                                                                                                                            </a>, <a class=\"stories-item__title-link\" href=\"https://www.rzn.info/news/2022/5/26/v-lesoparke-obnaruzhili-pogibshego-losenka-252132.html\">\n",
            "                                                                В Лесопарке обнаружили погибшего лосенка\n",
            "                                                                                                                                                                                            </a>, <a class=\"stories-item__title-link\" href=\"https://www.rzn.info/news/2022/5/26/a-chto-v-kino-moj-papa-vozhd-tochka-kipeniya-i-drugie-novinki-252129.html\">\n",
            "                                                                А что в кино? «Мой папа — вождь», «Точка кипения» и другие новинки\n",
            "                                                                                                                                                                                            </a>, <a class=\"stories-item__title-link\" href=\"https://www.rzn.info/news/2022/5/27/tureckie-brendy-odezhdy-i-tovarov-dlya-doma-planiruyut-vyjti-na-rossijskij-rynok-252143.html\" target=\"_blank\">\n",
            "                                                                Турецкие бренды одежды и товаров для дома планируют выйти на российски...\n",
            "                                                                                                                                                                                            </a>, <a class=\"stories-item__title-link\" href=\"https://www.rzn.info/news/2022/5/27/v-ryazani-velosipedist-vrezalsya-v-mashinu-252142.html\" target=\"_blank\">\n",
            "                                                                В Рязани велосипедист врезался в машину\n",
            "                                                                                                                                                                                            </a>, <a class=\"stories-item__title-link\" href=\"https://www.rzn.info/news/2022/5/27/stali-izvestny-varianty-novogo-nazvaniya-mcdonald-s-v-rossii-252141.html\" target=\"_blank\">\n",
            "                                                                Стали известны варианты нового названия McDonald’s в России\n",
            "                                                                                                                                                                                            </a>, <a class=\"stories-item__title-link\" href=\"https://www.rzn.info/news/2022/5/27/propavshego-v-ryazhske-muzhchinu-nashli-zhivym-252140.html\" target=\"_blank\">\n",
            "                                                                Пропавшего в Ряжске мужчину нашли живым\n",
            "                                                                                                                                                                                            </a>, <a class=\"stories-item__title-link\" href=\"https://www.rzn.info/news/2022/5/27/ryazancev-predupredili-o-silnom-vetre-v-pyatnicu-252139.html\" target=\"_blank\">\n",
            "                                                                Рязанцев предупредили о сильном ветре в пятницу\n",
            "                                                                                                                                                                                            </a>, <a class=\"stories-item__title-link\" href=\"https://www.rzn.info/news/2022/5/27/skonchalas-zhitelnica-belgorodskoj-oblasti-poluchivshaya-ranenie-posle-obstrela-252138.html\" target=\"_blank\">\n",
            "                                                                Скончалась жительница Белгородской области, получившая ранение после о...\n",
            "                                                                                                                                    <span class=\"stories-item-icon--camera\">\n",
            "                                                                    <svg class=\"stories-item__rubric-icon--camera stories-item__rubric-icon--camera-inline-big\" role=\"img\">\n",
            "                                                                        <use xlink:href=\"https://www.rzn.info/assets/images/design/sprite.svg#icon-camera\" xmlns:xlink=\"http://www.w3.org/1999/xlink\"></use>\n",
            "                                                                    </svg>\n",
            "                                                                </span>\n",
            "                                                                                                                                                                                            </a>, <a class=\"stories-item__title-link\" href=\"https://www.rzn.info/news/2022/5/27/v-omskoj-oblasti-15-letnij-podrostok-utonul-v-kotlovane-252137.html\" target=\"_blank\">\n",
            "                                                                В Омской области 15-летний подросток утонул в котловане\n",
            "                                                                                                                                                                                            </a>, <a class=\"stories-item__title-link\" href=\"https://www.rzn.info/news/2022/5/26/umer-odin-iz-osnovatelej-gruppy-depeche-mode-endi-fletcher-252136.html\" target=\"_blank\">\n",
            "                                                                Умер один из основателей группы Depeche Mode Энди Флетчер\n",
            "                                                                                                                                                                                            </a>, <a class=\"stories-item__title-link\" href=\"https://www.rzn.info/news/2022/5/26/v-omskoj-oblasti-semiklassnik-utonul-v-akvaparke-252135.html\" target=\"_blank\">\n",
            "                                                                В Омской области семиклассник утонул в аквапарке\n",
            "                                                                                                                                                                                            </a>, <a class=\"stories-item__title-link\" href=\"https://www.rzn.info/news/2022/5/26/sud-priznal-zakonnym-uvolnenie-115-rosgvardejcev-za-otkaz-ot-uchastiya-v-specoperacii-na-ukraine-252134.html\" target=\"_blank\">\n",
            "                                                                Суд признал законным увольнение 115 росгвардейцев за отказ от участия...\n",
            "                                                                                                                                                                                            </a>, <a class=\"stories-item__title-link\" href=\"https://www.rzn.info/news/2022/5/26/v-ryazani-na-ulice-sportivnoj-stolknulis-dva-krossovera-252133.html\" target=\"_blank\">\n",
            "                                                                В Рязани на улице Спортивной столкнулись два кроссовера\n",
            "                                                                                                                                                                                            </a>, <a class=\"stories-item__title-link\" href=\"https://www.rzn.info/news/2022/5/26/v-lesoparke-obnaruzhili-pogibshego-losenka-252132.html\" target=\"_blank\">\n",
            "                                                                В Лесопарке обнаружили погибшего лосенка\n",
            "                                                                                                                                                                                            </a>, <a class=\"stories-item__title-link\" href=\"https://www.rzn.info/news/2022/5/27/tureckie-brendy-odezhdy-i-tovarov-dlya-doma-planiruyut-vyjti-na-rossijskij-rynok-252143.html\" target=\"_blank\">Турецкие бренды одежды и товаров для дома планируют выйти на российский рынок</a>, <a class=\"stories-item__title-link\" href=\"https://www.rzn.info/news/2022/5/27/stali-izvestny-varianty-novogo-nazvaniya-mcdonald-s-v-rossii-252141.html\" target=\"_blank\">Стали известны варианты нового названия McDonald’s в России</a>, <a class=\"stories-item__title-link\" href=\"https://www.rzn.info/news/2022/5/27/propavshego-v-ryazhske-muzhchinu-nashli-zhivym-252140.html\" target=\"_blank\">Пропавшего в Ряжске мужчину нашли живым</a>, <a class=\"stories-item__title-link\" href=\"https://www.rzn.info/news/2022/5/26/umer-odin-iz-osnovatelej-gruppy-depeche-mode-endi-fletcher-252136.html\" target=\"_blank\">Умер один из основателей группы Depeche Mode Энди Флетчер</a>, <a class=\"stories-item__title-link\" href=\"https://www.rzn.info/news/2022/5/26/sud-priznal-zakonnym-uvolnenie-115-rosgvardejcev-za-otkaz-ot-uchastiya-v-specoperacii-na-ukraine-252134.html\" target=\"_blank\">Суд признал законным увольнение 115 росгвардейцев за отказ от участия в спецоперации на Украине</a>, <a class=\"stories-item__title-link\" href=\"https://www.rzn.info/news/2022/5/26/ryazanku-oshtrafovali-za-zarosshie-sornyakami-selhozuchastki-na-20-tysyach-rublej-252130.html\" target=\"_blank\">Рязанку оштрафовали за заросшие сорняками сельхозучастки на 20 тысяч рублей</a>, <a class=\"stories-item__title-link\" href=\"https://www.rzn.info/news/2022/5/26/v-ryazani-peresmotryat-sistemu-uborki-mest-otdyha-252128.html\" target=\"_blank\">В Рязани пересмотрят систему уборки мест отдыха</a>, <a class=\"stories-item__title-link\" href=\"https://www.rzn.info/news/2022/5/27/v-ryazani-velosipedist-vrezalsya-v-mashinu-252142.html\" target=\"_blank\">В Рязани велосипедист врезался в машину</a>, <a class=\"stories-item__title-link\" href=\"https://www.rzn.info/news/2022/5/27/skonchalas-zhitelnica-belgorodskoj-oblasti-poluchivshaya-ranenie-posle-obstrela-252138.html\" target=\"_blank\">Скончалась жительница Белгородской области, получившая ранение после обстрела</a>, <a class=\"stories-item__title-link\" href=\"https://www.rzn.info/news/2022/5/27/v-omskoj-oblasti-15-letnij-podrostok-utonul-v-kotlovane-252137.html\" target=\"_blank\">В Омской области 15-летний подросток утонул в котловане</a>, <a class=\"stories-item__title-link\" href=\"https://www.rzn.info/news/2022/5/26/v-omskoj-oblasti-semiklassnik-utonul-v-akvaparke-252135.html\" target=\"_blank\">В Омской области семиклассник утонул в аквапарке</a>, <a class=\"stories-item__title-link\" href=\"https://www.rzn.info/news/2022/5/26/v-ryazani-na-ulice-sportivnoj-stolknulis-dva-krossovera-252133.html\" target=\"_blank\">В Рязани на улице Спортивной столкнулись два кроссовера</a>, <a class=\"stories-item__title-link\" href=\"https://www.rzn.info/news/2022/5/26/v-lesoparke-obnaruzhili-pogibshego-losenka-252132.html\" target=\"_blank\">В Лесопарке обнаружили погибшего лосенка</a>, <a class=\"stories-item__title-link\" href=\"https://www.rzn.info/news/2022/5/26/zhitelya-mihajlovskogo-rajona-osudyat-za-nezakonnoe-izgotovlenie-i-sbyt-oruzhiya-i-boepripasov-252122.html\" target=\"_blank\">Жителя Михайловского района осудят за незаконное изготовление и сбыт оружия и боеприпасов</a>, <a class=\"stories-item__title-link\" href=\"https://www.rzn.info/news/2022/5/26/na-azovstali-zaderzhali-spryatavshihsya-ukrainskih-voennyh-252087.html\" target=\"_blank\">На «Азовстали» задержали спрятавшихся украинских военных</a>, <a class=\"stories-item__title-link\" href=\"https://www.rzn.info/news/2022/5/26/gosduma-rossiya-nikogda-ne-ujdet-s-osvobozhdennyh-territorij-252083.html\" target=\"_blank\">Госдума: Россия никогда не уйдет с освобожденных территорий</a>, <a class=\"stories-item__title-link\" href=\"https://www.rzn.info/news/2022/5/26/predstavitel-zaporozhskoj-vga-rogov-ukraina-navsegda-poteryala-vyhod-k-azovskomu-moryu-252074.html\" target=\"_blank\">Представитель Запорожской ВГА Рогов: Украина навсегда потеряла выход к Азовскому морю</a>, <a class=\"stories-item__title-link\" href=\"https://www.rzn.info/news/2022/5/25/pavel-malkov-v-pronskom-rajone-zayavil-o-neobhodimosti-sozdavat-novye-rabochie-mesta-252065.html\" target=\"_blank\">Павел Малков в Пронском районе заявил о необходимости создавать новые рабочие места</a>, <a class=\"stories-item__title-link\" href=\"https://www.rzn.info/news/2022/5/25/v-oon-nazvali-vozmozhnoj-perspektivu-yadernogo-konflikta-na-ukraine-252063.html\" target=\"_blank\">В ООН назвали возможной перспективу ядерного конфликта на Украине</a>, <a class=\"stories-item__title-link\" href=\"https://www.rzn.info/news/2022/5/25/sovfed-odobril-zakon-ob-otmene-vozrastnogo-predela-dlya-zaklyucheniya-kontrakta-na-voennuyu-sluzhbu-252046.html\" target=\"_blank\">Совфед одобрил закон об отмене возрастного предела для заключения контракта на военную службу</a>, <a class=\"stories-item__title-link\" href=\"https://www.rzn.info/news/2022/5/25/putin-uprostil-poluchenie-grazhdanstva-zhitelyam-hersonskoj-i-zaporozhskoj-oblastej-252041.html\" target=\"_blank\">Путин упростил получение гражданства жителям Херсонской и Запорожской областей</a>]\n"
          ]
        }
      ]
    },
    {
      "cell_type": "code",
      "source": [
        "links=[l[\"href\"] for l in h2s]\n",
        "links = list(dict.fromkeys(links))\n",
        "print(links)"
      ],
      "metadata": {
        "colab": {
          "base_uri": "https://localhost:8080/"
        },
        "id": "34a7dfMtShpX",
        "outputId": "525e0839-3456-4881-a471-ce0d0804410b"
      },
      "execution_count": null,
      "outputs": [
        {
          "output_type": "stream",
          "name": "stdout",
          "text": [
            "['https://www.rzn.info/news/2022/5/26/v-ryazanskoj-oblasti-prostilis-s-tremya-voennosluzhashimi-pogibshimi-na-ukraine-252127.html', 'https://www.rzn.info/news/2022/5/26/v-aleksandro-nevskom-v-dtp-popal-15-letnij-motociklist-252108.html', 'https://www.rzn.info/news/2022/5/26/centralnyj-bank-rossii-snizil-klyuchevuyu-stavku-do-11-252082.html', 'https://www.rzn.info/news/2022/5/27/v-ryazani-velosipedist-vrezalsya-v-mashinu-252142.html', 'https://www.rzn.info/news/2022/5/27/stali-izvestny-varianty-novogo-nazvaniya-mcdonald-s-v-rossii-252141.html', 'https://www.rzn.info/news/2022/5/26/v-lesoparke-obnaruzhili-pogibshego-losenka-252132.html', 'https://www.rzn.info/news/2022/5/26/a-chto-v-kino-moj-papa-vozhd-tochka-kipeniya-i-drugie-novinki-252129.html', 'https://www.rzn.info/news/2022/5/27/tureckie-brendy-odezhdy-i-tovarov-dlya-doma-planiruyut-vyjti-na-rossijskij-rynok-252143.html', 'https://www.rzn.info/news/2022/5/27/propavshego-v-ryazhske-muzhchinu-nashli-zhivym-252140.html', 'https://www.rzn.info/news/2022/5/27/ryazancev-predupredili-o-silnom-vetre-v-pyatnicu-252139.html', 'https://www.rzn.info/news/2022/5/27/skonchalas-zhitelnica-belgorodskoj-oblasti-poluchivshaya-ranenie-posle-obstrela-252138.html', 'https://www.rzn.info/news/2022/5/27/v-omskoj-oblasti-15-letnij-podrostok-utonul-v-kotlovane-252137.html', 'https://www.rzn.info/news/2022/5/26/umer-odin-iz-osnovatelej-gruppy-depeche-mode-endi-fletcher-252136.html', 'https://www.rzn.info/news/2022/5/26/v-omskoj-oblasti-semiklassnik-utonul-v-akvaparke-252135.html', 'https://www.rzn.info/news/2022/5/26/sud-priznal-zakonnym-uvolnenie-115-rosgvardejcev-za-otkaz-ot-uchastiya-v-specoperacii-na-ukraine-252134.html', 'https://www.rzn.info/news/2022/5/26/v-ryazani-na-ulice-sportivnoj-stolknulis-dva-krossovera-252133.html', 'https://www.rzn.info/news/2022/5/26/ryazanku-oshtrafovali-za-zarosshie-sornyakami-selhozuchastki-na-20-tysyach-rublej-252130.html', 'https://www.rzn.info/news/2022/5/26/v-ryazani-peresmotryat-sistemu-uborki-mest-otdyha-252128.html', 'https://www.rzn.info/news/2022/5/26/zhitelya-mihajlovskogo-rajona-osudyat-za-nezakonnoe-izgotovlenie-i-sbyt-oruzhiya-i-boepripasov-252122.html', 'https://www.rzn.info/news/2022/5/26/na-azovstali-zaderzhali-spryatavshihsya-ukrainskih-voennyh-252087.html', 'https://www.rzn.info/news/2022/5/26/gosduma-rossiya-nikogda-ne-ujdet-s-osvobozhdennyh-territorij-252083.html', 'https://www.rzn.info/news/2022/5/26/predstavitel-zaporozhskoj-vga-rogov-ukraina-navsegda-poteryala-vyhod-k-azovskomu-moryu-252074.html', 'https://www.rzn.info/news/2022/5/25/pavel-malkov-v-pronskom-rajone-zayavil-o-neobhodimosti-sozdavat-novye-rabochie-mesta-252065.html', 'https://www.rzn.info/news/2022/5/25/v-oon-nazvali-vozmozhnoj-perspektivu-yadernogo-konflikta-na-ukraine-252063.html', 'https://www.rzn.info/news/2022/5/25/sovfed-odobril-zakon-ob-otmene-vozrastnogo-predela-dlya-zaklyucheniya-kontrakta-na-voennuyu-sluzhbu-252046.html', 'https://www.rzn.info/news/2022/5/25/putin-uprostil-poluchenie-grazhdanstva-zhitelyam-hersonskoj-i-zaporozhskoj-oblastej-252041.html']\n"
          ]
        }
      ]
    },
    {
      "cell_type": "code",
      "source": [
        "texts = []\n",
        "titles = []\n",
        "for link in links:\n",
        "  resp2=requests.get(link)\n",
        "  BeautifulSoup(resp2.text, \"html5lib\").get_text()\n",
        "  bs=BeautifulSoup(resp2.text, \"html5lib\") \n",
        "  title=bs.p.text  \n",
        "  text=\" \".join([p.text for p in bs.find_all(\"p\")])\n",
        "  texts.append(text)\n",
        "  titles.append(title)"
      ],
      "metadata": {
        "id": "XHReG0qIScKm"
      },
      "execution_count": null,
      "outputs": []
    },
    {
      "cell_type": "code",
      "source": [
        "i=0\n",
        "while i < len(texts): \n",
        "  texts[i] = texts[i].replace('\\xa0', ' ') \n",
        "  i=i+1"
      ],
      "metadata": {
        "id": "AL3KLDQSXlu7"
      },
      "execution_count": null,
      "outputs": []
    },
    {
      "cell_type": "code",
      "metadata": {
        "colab": {
          "base_uri": "https://localhost:8080/"
        },
        "id": "4Ileu07gnHBo",
        "outputId": "e71eb911-e6e0-4c22-b746-25edd6b8f374"
      },
      "source": [
        "print(texts)"
      ],
      "execution_count": null,
      "outputs": [
        {
          "output_type": "stream",
          "name": "stdout",
          "text": [
            "['В Рязанской области простились с тремя военнослужащими, погибшими на Украине.  Церемонии проходили в четверг, 26 мая.  В Рязани и Рязанском районе простились с гвардии старшим сержантом Кириллом Беловым, гвардии старшим прапорщиком Дмитрием Кривошеевым и гвардии майором Александром Денисовым. Они погибли во время спецоперации на территории Украины.  На траурных мероприятиях соблюдали все воинские почести. В церемониях участвовали представители облправительства, администраций Рязани и Рязанского района, епархии, Рязанского военного гарнизона, командования ВДВ, общественных организаций, ветераны, а также родные и близкие солдат.  Соболезнования выразил врио губернатора Павел Малков. © 2004–2022. Все права защищены.Рязанский городской сайт RZN.info Реестровая запись СМИ Эл № ФС77-41916, выдано Роскомнадзором 10.09.2010 г +7 (4912) 470-700, +7 (903) 839-19-94 Разработка и поддержка — AMdesign.ru Обнаружив неточность в тексте на данной странице, выделите ее и нажмите Ctrl+Enter', 'В Александро-Невском в ДТП попал 15-летний мотоциклист. Об этом сообщило издательство «Пресса». Авария случилась в среду, 25 мая, в 17:00, на улице Комсомольской. Подросток на мотоцикле Stels врезался в ехавший в попутном направлении автомобиль Opel. Отмечается, что происшествие случилось, когда водитель легковушки повернул налево, подъезжая к своему дому. По предварительным данным, мотоциклист превысил скорость. У него не было прав. Сам мотоцикл не был зарегистрирован. Пострадали три человека. Водителя мотоцикла направили в Александро-Невскую районную больницу с черепно-мозговой травмой. Его пассажирки получили переломы. Отмечается, что все трое были без защитных шлемов. © 2004–2022. Все права защищены.Рязанский городской сайт RZN.info Реестровая запись СМИ Эл № ФС77-41916, выдано Роскомнадзором 10.09.2010 г +7 (4912) 470-700, +7 (903) 839-19-94 Разработка и поддержка — AMdesign.ru Обнаружив неточность в тексте на данной странице, выделите ее и нажмите Ctrl+Enter', 'Центральный банк России снизил ключевую ставку до 11%. Информация появилась на сайте регулятора. Решение принял совет директоров Ц. Б. Оно вступит в силу с 27 мая. В организации сообщили о снижении рисков для финансовой стабильности и допустили понижение показателя на ближайших заседаниях. Следующее заседание по ключевой ставке запланировано на 10 июня. Напомним, в конце февраля ЦБ повысил ключевую ставку с 9,5% до 20%. В начале апреля показатель снизили до 17%, а 29 апреля — до 14%. Фото — сайт Центробанка © 2004–2022. Все права защищены.Рязанский городской сайт RZN.info Реестровая запись СМИ Эл № ФС77-41916, выдано Роскомнадзором 10.09.2010 г +7 (4912) 470-700, +7 (903) 839-19-94 Разработка и поддержка — AMdesign.ru Обнаружив неточность в тексте на данной странице, выделите ее и нажмите Ctrl+Enter', 'В Рязани у ЖК «Чайка» в ДТП попал велосипедист. Момент аварии попал на видео, ролик опубликовали «ВКонтакте». Велосипедист врезался в припаркованную машину. Подробности о произошедшем уточняются. © 2004–2022. Все права защищены.Рязанский городской сайт RZN.info Реестровая запись СМИ Эл № ФС77-41916, выдано Роскомнадзором 10.09.2010 г +7 (4912) 470-700, +7 (903) 839-19-94 Разработка и поддержка — AMdesign.ru Обнаружив неточность в тексте на данной странице, выделите ее и нажмите Ctrl+Enter', 'McDonald’s выбирает новое название для ресторанов в России из пяти вариантов. Об этом сообщило агентство новостей «Москва» со ссылкой на источник, знакомый с ситуацией в компании. Отмечается, что заявки на регистрацию уже подали в Роспатент. Ни одно из названий не похоже на McDonald’s. «Скорее всего, будет выбрано схожее по созвучию с известным рекламным слоганом сети», — рассказал источник. По словам собеседника, заявки подали на регистрацию брендов «Только так», «Весело и вкусно», «Тот самый» и «Свободная касса». Последнюю заявку найти не удалось. Ранее стала известна дата открытия McDonald’s в России под новым брендом. © 2004–2022. Все права защищены.Рязанский городской сайт RZN.info Реестровая запись СМИ Эл № ФС77-41916, выдано Роскомнадзором 10.09.2010 г +7 (4912) 470-700, +7 (903) 839-19-94 Разработка и поддержка — AMdesign.ru Обнаружив неточность в тексте на данной странице, выделите ее и нажмите Ctrl+Enter', 'В Лесопарке обнаружили погибшего лосенка. Об этом сообщила ГТРК «Ока» в четверг, 26 мая.  Труп животного обнаружили в районе перешейка между Ореховым озером и Окой.  Предположительно, лосенок во время половодья переплыл реку, но не смог выбраться на сушу, запутавшись в арматуре и мусоре возле берега.  Фото ГТРК «Ока»  © 2004–2022. Все права защищены.Рязанский городской сайт RZN.info Реестровая запись СМИ Эл № ФС77-41916, выдано Роскомнадзором 10.09.2010 г +7 (4912) 470-700, +7 (903) 839-19-94 Разработка и поддержка — AMdesign.ru Обнаружив неточность в тексте на данной странице, выделите ее и нажмите Ctrl+Enter', 'Четверг — традиционный день киноновинок. Афиша РЗН. инфо расскажет о картинах, которые рязанцы увидят на больших экранах уже на этой неделе. «Мой папа — вождь» Одна из самых заметных российских премьер этой недели — фильм Егора Кончаловского «Мой папа — вождь» с Дмитрием Нагиевым в главной роли. Капитан дальнего плавания Петров уже несколько лет считался пропавшим без вести. Однако он вернулся в родной город африканским вождем. И теперь он ходит по городу с копьем наперевес и охотится прямо на глазах у изумленных граждан. Он не признает правил современной цивилизации — только закон джунглей. Однако ему придется наладить отношения с женой и сыном. Рейтинг ожиданий на Кинопоиске — 77%.  «Точка кипения» Фильм «Точка кипения» режиссера и сценариста Фила Барантини интересен уже тем, что снят одним дублем без монтажных склеек — прием сам по себе не новый, зато умело превращающий зрителя в непосредственного наблюдателя. Действие происходит в одном из популярных ресторанов Лондона. Вечер весьма оживленный, шеф-повар рвет и мечет и его команда также на взводе. Вдобавок к ним приходит проверка, наносит визит ресторанный критик, а инвестор требует возврата вложенных денег. И неожиданно на кон шеф-повара поставлено все, ради чего он работал. Оценка на Кинопоиске — 7.0, на сайте IMDb — 7.5, рейтинг критиков на RottenTomatoes — 99%.  «Эскортницы» Следующая зарубежная новинка — польский фильм «Эскортницы». Главная героиня Эни мечтает о роскошной жизни. Поработав в элитном эскорте, она получает предложение набрать девушек, готовых отправиться в гости к арабским шейхам. Это должны быть исключительно модели, участницы конкурсов красоты, звезды кино. Девушкам обещают великолепные условия и полную анонимность. Однако скоро вся эта роскошь покажет свою теневую сторону. Оценка на сайте IMDb — 4.8.  «Аманат» Российский фильм «Аманат» режиссеров Антона Сиверса и Рауфа Кубаева рассказывает историю любви на фоне военных событий российской истории первой половины XIX века. Главные герои — Лиза Оленина и Шамиль Джамалутдин, сын имама Дагестана, отправленный российскому правительству в качестве «аманата» (заложника). Исторический контекст заката Николаевской эпохи, на фоне которого разворачивается история о любви и предательстве, чести и долге, служении отчизне и верности данному слову станет ключевым для фильма. Рейтинг ожиданий на Кинопоиске — 87%.  «Остров призраков» Фильм ужасов «Остров призраков» рассказывает о безутешном вдовце по имени Эрик, который после гибели жены приезжает на безлюдный остров. Однако тихое уединение в идеальном на первый взгляд убежище оборачивается настоящим кошмаром. Мстительные духи острова не дают успокоить тайны прошлого, заставляя Эрика разобраться с собственными демонами. Оценка на сайте IMDb — 4.9, рейтинг критиков на RottenTomatoes — 71%.  «Отряд „Призрак“» И еще одна зарубежная новинка — боевик «Отряд „Призрак“» с Кевином Диллоном и Брюсом Уиллисом в главных ролях. Бывший военный офицер Коннор Коннолли должен всего за 12 часов выплатить 2 миллиона долларов компенсации наркобарону Тайрону Петтису, иначе его беременная жена погибнет. За помощью Коннор обращается к своей старой команде во главе с Брайсом Мэйсоном. Кроме того, команде предстоит свести счеты с коррумпированным начальником городской полиции, который работает с лидером банды и обманул его много лет назад. Оценка на Кинопоиске — 4.6, на сайте IMDb — 3.7.  © 2004–2022. Все права защищены.Рязанский городской сайт RZN.info Реестровая запись СМИ Эл № ФС77-41916, выдано Роскомнадзором 10.09.2010 г +7 (4912) 470-700, +7 (903) 839-19-94 Разработка и поддержка — AMdesign.ru Обнаружив неточность в тексте на данной странице, выделите ее и нажмите Ctrl+Enter', 'Турецкие бренды одежды и товаров для дома планируют выйти на российский рынок. Об этом сообщили «Известия» со ссылкой на представителей рынка недвижимости и ретейла.  По информации издания, компании обсуждают с торговыми центрами открытие в России магазинов Mudo, LTB, Twist, pekyol и adL. Отмечается, что операторы интересуются сотрудничеством с брендами после приостановки работы крупных компаний на российском рынке. Факт переговоров операторов с турецкими компаниями подтвердил глава совета торговых центров Дмитрий Москаленко.  По словам руководителя компании Surenkok Moscow Омюра Сюренкока, каждая из фирм планирует открыть более 100 точек в Москве и регионах. Первыми начнут работу магазины adL — эта фирма работала раньше в России. Первый магазин могут открыть в Москве осенью.  Как отметил Сюренкок, турецкие марки начнут продажи в России с вещей коллекции «осень-зима». При этом, компаниям для открытия первой точки потребуется полгода.  © 2004–2022. Все права защищены.Рязанский городской сайт RZN.info Реестровая запись СМИ Эл № ФС77-41916, выдано Роскомнадзором 10.09.2010 г +7 (4912) 470-700, +7 (903) 839-19-94 Разработка и поддержка — AMdesign.ru Обнаружив неточность в тексте на данной странице, выделите ее и нажмите Ctrl+Enter', 'Андрея Чичкова, пропавшего в Ряжске, нашли живым. Об этом сообщила группа поисково-спасательного отряда «ЛизаАлерт» Рязанской области. 60-летнего мужчину искали с 24 мая. © 2004–2022. Все права защищены.Рязанский городской сайт RZN.info Реестровая запись СМИ Эл № ФС77-41916, выдано Роскомнадзором 10.09.2010 г +7 (4912) 470-700, +7 (903) 839-19-94 Разработка и поддержка — AMdesign.ru Обнаружив неточность в тексте на данной странице, выделите ее и нажмите Ctrl+Enter', 'Рязанцев предупредили о сильном ветре. Сообщение появилось на сайте регионального управления МЧС. По данным синоптиков, в области утром и днем в пятницу, 27 мая, ветер усилится до 12-17 м/c. Жителей региона попросили соблюдать осторожность. © 2004–2022. Все права защищены.Рязанский городской сайт RZN.info Реестровая запись СМИ Эл № ФС77-41916, выдано Роскомнадзором 10.09.2010 г +7 (4912) 470-700, +7 (903) 839-19-94 Разработка и поддержка — AMdesign.ru Обнаружив неточность в тексте на данной странице, выделите ее и нажмите Ctrl+Enter', 'В Белгородской области скончалась женщина, получившая ранение после обстрела со стороны Украины. Об этом в Telegram-канале сообщил губернатор региона Вячеслав Гладков. Село Журавлевка обстреляли в четверг, 26 мая. Глава региона сообщил, что женщина умерла от полученных ран. Фото последствий обстрелов из Telegram-канала Гладкова © 2004–2022. Все права защищены.Рязанский городской сайт RZN.info Реестровая запись СМИ Эл № ФС77-41916, выдано Роскомнадзором 10.09.2010 г +7 (4912) 470-700, +7 (903) 839-19-94 Разработка и поддержка — AMdesign.ru Обнаружив неточность в тексте на данной странице, выделите ее и нажмите Ctrl+Enter', 'В Омской области 15-летний подросток утонул в котловане. Об этом сообщило РИА Новости со ссылкой на региональный следком.  Инцидент произошел в четверг, 26 мая, под селом Азово.  Мальчик поехал с другом кататься на велосипеде. Подростки решили искупаться в котловане, затопленном водой. Во время купания ученик Привальновской средней школы утонул.  «Возбуждено уголовное дело по признакам преступления — причинение смерти по неосторожности», — отметили в следкоме. Специалисты осматривают место происшествия, проводят допросы и другие действия. Выясняются причины трагедии.  © 2004–2022. Все права защищены.Рязанский городской сайт RZN.info Реестровая запись СМИ Эл № ФС77-41916, выдано Роскомнадзором 10.09.2010 г +7 (4912) 470-700, +7 (903) 839-19-94 Разработка и поддержка — AMdesign.ru Обнаружив неточность в тексте на данной странице, выделите ее и нажмите Ctrl+Enter', 'Умер один из основателей Depeche Mode Энди Флетчер. Об этом пишет Telegram-канал SHOT со ссылкой на официальный аккаунт группы в соцсетях.  Музыкант-клавишник умер в четверг, 26 мая. Ему было 60 лет. О причинах смерти не сообщается.  Ранее стало известно, что голливудский актер  Рэй Лиотта умер в возрасте 67 лет в Доминиканской республике. Фото соцсети © 2004–2022. Все права защищены.Рязанский городской сайт RZN.info Реестровая запись СМИ Эл № ФС77-41916, выдано Роскомнадзором 10.09.2010 г +7 (4912) 470-700, +7 (903) 839-19-94 Разработка и поддержка — AMdesign.ru Обнаружив неточность в тексте на данной странице, выделите ее и нажмите Ctrl+Enter', 'В Омской области семиклассник утонул в аквапарке. Об этом сообщила пресс-служба регионального следкома.  Инцидент произошел в четверг, 26 мая, в аквапарке базы отдыха «Политотдел». 14-летний школьник приехал из школы №\\u2009113 города Омска отметить окончание учебного года вместе с 20 одноклассниками и двумя взрослыми.  Подросток не умел плавать. Он утонул, катаясь с горки.  Уголовно дело возбудили по части 1 статьи 109 УК РФ («Причинение смерти по неосторожности»).  © 2004–2022. Все права защищены.Рязанский городской сайт RZN.info Реестровая запись СМИ Эл № ФС77-41916, выдано Роскомнадзором 10.09.2010 г +7 (4912) 470-700, +7 (903) 839-19-94 Разработка и поддержка — AMdesign.ru Обнаружив неточность в тексте на данной странице, выделите ее и нажмите Ctrl+Enter', 'Суд признал законным увольнение росгвардейцев за отказ от участия в спецоперации на Украине. Об этом пишет РИА Новости.  Гарнизонный военный суд в Нальчике отказал в иске 115 бывшим сотрудникам Росгвардии, которых уволили за отказ от участия в спецоперации на Украине.  Пресс-служба суда сообщила, что силовики «в составе своего подразделения самовольно отказались выполнять служебное задание и коллективно убыли по собственной инициативе к постоянному месту службы «. После этого их досрочно уволили с военной службы.  Бывшие военнослужащие подали иск, оспаривающий увольнение, но суд счел их доводы несостоятельными.  Отмечается, что дело рассматривали в закрытом режиме «в целях исключения случаев разглашения сведений, составляющих военную тайну».  Пресс-служба суда уточнила, что решение не вступило в законную силу и может быть обжаловано в течение месяца со дня принятия.  © 2004–2022. Все права защищены.Рязанский городской сайт RZN.info Реестровая запись СМИ Эл № ФС77-41916, выдано Роскомнадзором 10.09.2010 г +7 (4912) 470-700, +7 (903) 839-19-94 Разработка и поддержка — AMdesign.ru Обнаружив неточность в тексте на данной странице, выделите ее и нажмите Ctrl+Enter', 'В Рязани на улице Спортивной столкнулись два кроссовера. Фото выложили очевидцы в группе «ДТП | Аварии | Рязань»  Авария произошла в четверг, 26 мая. На улице Спортивной напротив бензозаправки столкнулись Nissan Juke и Mitsubishi Outlander. Очевидцы отметили, что движение в районе аварии затруднено.  © 2004–2022. Все права защищены.Рязанский городской сайт RZN.info Реестровая запись СМИ Эл № ФС77-41916, выдано Роскомнадзором 10.09.2010 г +7 (4912) 470-700, +7 (903) 839-19-94 Разработка и поддержка — AMdesign.ru Обнаружив неточность в тексте на данной странице, выделите ее и нажмите Ctrl+Enter', 'Рязанку оштрафовали за заросший сорняками сельхозучасток. Об этом сообщили в пресс-службе регионального управления Россельхознадзора. В октябре управление провело проверку земельных участков, принадлежавших рязанке, площадью более 10 гектаров. Они находились в Рязанском районе рядом с селом Алеканово. Проверка установила, что участки заросли сорняками и кустарниками. Хозяйку привлекли к административной ответственности по по части 2 статьи 8.7 КоАП («Невыполнение обязанностей по рекультивации земель, обязательных мероприятий по улучшению земель и охране почв») и назначили ей штраф в размере 10 тысяч рублей. В установленный срок рязанка не оплатила штраф. После этого региональное управление Россельхознадзора возбудила против нее новое административное дело по части 1 статьи 20.25 КоАП («Уклонение от исполнения административного наказания»). Суд признал владелицу участков виновной и назначил еще один штраф в размере 10 тысяч рублей. © 2004–2022. Все права защищены.Рязанский городской сайт RZN.info Реестровая запись СМИ Эл № ФС77-41916, выдано Роскомнадзором 10.09.2010 г +7 (4912) 470-700, +7 (903) 839-19-94 Разработка и поддержка — AMdesign.ru Обнаружив неточность в тексте на данной странице, выделите ее и нажмите Ctrl+Enter', 'В Рязани пересмотрят систему уборки мест отдыха. Об этом сообщила мэр Елена Сорокина на странице в соцсети «ВКонтакте». Глава горадминистрации обратила внимание на замечания по поводу уборки на местах отдыха. Их оставляли пользователи соцсетей. Также она напомнила, что о проблемах содержания парков говорил врио губернатора Павел Малков. По словам Сорокиной, свою работу перестроит дирекция благоустройства города. Также предприятия и организации возьмут шефство над конкретными парками. Также мэр заявила о «ежедневном контроле состояния парков на руководящем уровне». «Как правильно как-то заметили пользователи соцсетей в наш адрес, хватит совершать выезды, ходите пешком по городу. Администрация города — это не про кабинеты, это про пешком, про нестандартные решения проблем. Даже в условиях ограниченного бюджета», — отметила Сорокина. © 2004–2022. Все права защищены.Рязанский городской сайт RZN.info Реестровая запись СМИ Эл № ФС77-41916, выдано Роскомнадзором 10.09.2010 г +7 (4912) 470-700, +7 (903) 839-19-94 Разработка и поддержка — AMdesign.ru Обнаружив неточность в тексте на данной странице, выделите ее и нажмите Ctrl+Enter', 'Жителя Михайловского района осудят за незаконное изготовление и сбыт оружия и боеприпасов. Об этом сообщило региональное управление МВД России. Ранее стало известно, житель поселка Горенки сделал в своей квартире мастерскую по переделке сигнального оружия в боевое. Через знакомых он продавал товар. После сделки по сбыту пистолетов и патронов оружейника задержали. В операции участвовали полицейские, сотрудники УФСБ и Росгвардии Во время обыска в жилище мужчины нашли фрезерный станок, слесарные инструменты и изготовленные части оружейных механизмов. Полицейские изъяли три самодельных ружья, патроны, 11 банок со взрывчаткой и пустой тубус от гранатомета. Следствие установило причастность мужчины к нелегальному сбыту шести пистолетов, 82 патронов к ним, незаконному изготовлению и хранению оружия, боеприпасов и 2,5 килограмма пороха. Уголовное дело рассмотрит Михайловский районный суд. Мужчина находится под стражей. © 2004–2022. Все права защищены.Рязанский городской сайт RZN.info Реестровая запись СМИ Эл № ФС77-41916, выдано Роскомнадзором 10.09.2010 г +7 (4912) 470-700, +7 (903) 839-19-94 Разработка и поддержка — AMdesign.ru Обнаружив неточность в тексте на данной странице, выделите ее и нажмите Ctrl+Enter', 'На «Азовстали» задержали спрятавшихся украинских военных. Об этом РИА Новости рассказал глава Донецкой народной республики Денис Пушилин. Пушилин уточнил, что задержанные не представляют угрозы. Политик сообщил, что пока рано говорить о полной зачистке территории предприятия. «Они могли спрятаться чисто физически, могли где-то быть потеряны, где-то подотстали. Уже есть такие выявленные, тоже направленные к месту содержания», — добавил глава ДНР. По его словам, территорию «Азовстали» необходимо проверить, разминировать и разгрести завалы. Ранее сообщалось, что около двух тысяч украинских боевиков, находившихся на территории комбината, сдались в плен. © 2004–2022. Все права защищены.Рязанский городской сайт RZN.info Реестровая запись СМИ Эл № ФС77-41916, выдано Роскомнадзором 10.09.2010 г +7 (4912) 470-700, +7 (903) 839-19-94 Разработка и поддержка — AMdesign.ru Обнаружив неточность в тексте на данной странице, выделите ее и нажмите Ctrl+Enter', 'Россия никогда не уйдет с освобожденных территорий — Херсонской и Запорожской областей. Об этом в четверг, 26 мая, заявил депутат Госдумы от Крыма Михаил Шеремет, пишут РИА Новости. По его словам, Россия не уйдет и не оставит без защиты Запорожье и Херсон. Это доказывает предоставление гражданства жителям этих областей. «Предоставление права упрощенного гражданства — это важное, справедливое и судьбоносное решение. Это прежде всего защита граждан, проживающих на освобожденных территориях», — сообщил Шеремет. Ранее Владимир Путин подписал указ об упрощенном приеме в российское гражданство жителей Запорожья и Херсона. © 2004–2022. Все права защищены.Рязанский городской сайт RZN.info Реестровая запись СМИ Эл № ФС77-41916, выдано Роскомнадзором 10.09.2010 г +7 (4912) 470-700, +7 (903) 839-19-94 Разработка и поддержка — AMdesign.ru Обнаружив неточность в тексте на данной странице, выделите ее и нажмите Ctrl+Enter', 'Украина навсегда потеряла выход к Азовскому морю. Об этом в четверг, 26 мая, заявил член главного совета военно-гражданской администрации Запорожской области Владимир Рогов, передали РИА Новости. Рогов уверен, что после того, как Запорожская и Херсонская области были взяты под контроль российскими войсками, Азовское море больше не будет принадлежать Украине. Указанные регионы также не будут принадлежать Киеву.  Тем самым Азовское море вновь станет внутренним морем Российской Федерации, как это было прежде.  Ранее постпред Крыма при президенте России Георгий Мурадов заявил, что после освобождения Мариуполя и других южных регионов Азовское море стало морем совместного пользования России и ДНР. © 2004–2022. Все права защищены.Рязанский городской сайт RZN.info Реестровая запись СМИ Эл № ФС77-41916, выдано Роскомнадзором 10.09.2010 г +7 (4912) 470-700, +7 (903) 839-19-94 Разработка и поддержка — AMdesign.ru Обнаружив неточность в тексте на данной странице, выделите ее и нажмите Ctrl+Enter', 'В среду, 25 мая, врио губернатора Рязанской области Павел Малков совершил рабочую поездку в Пронский район. Сначала он побывал в филиале рязанской ГРЭС, где осмотрел станцию, пообщался с руководством предприятия и с сотрудниками. «С одной стороны предприятие оставляет мощное впечатление, глобальное. Видно, что за всем этим стоит большой инженерный труд, большая мысль и большое количество людей, которые сейчас работают. С другой стороны понятно, что нужно развивать и другие предприятия. Потому что это одновременно и сильная сторона и слабая сторона. Нужны новые рабочие места, нужны новые направления развития», — прокомментировал врио губернатора.  Затем Малков осмотрел объекты, которые обновили в текущем году — сквер Победы и проспект Смирягина. Зеленые зоны благоустроили по программе «Формирование комфортной городской среды». Глава региона остался доволен проделанной работой. «Парк интересный. На мой взгляд, сделан на высоком уровне. Не просто вложены средства и как-то организованно пространство. Здесь люди подошли с душой, видно, что они довольны тем, что они могут пользоваться такой возможностью. Будем развиваться дальше. В других муниципальных образованиях есть не менее достойные объекты — их должно становиться больше. И в Рязани в том числе», — сообщил он. Павел Малков подчеркнул, что ранее не видел, чтобы объекты по программе местных инициатив были так «масштабно» реализованы, как сквер в Новомичуринске. «Есть города, которые занимаются программой, и там есть результаты, но чаще всего это местная небольшая инициатива. Сейчас есть возможность сделать новое лицо нашим городам и по-настоящему комфортной жизнь граждан», — добавил Малков. В конце поездки врио губернатора провел совещание с главами муниципальных образований. © 2004–2022. Все права защищены.Рязанский городской сайт RZN.info Реестровая запись СМИ Эл № ФС77-41916, выдано Роскомнадзором 10.09.2010 г +7 (4912) 470-700, +7 (903) 839-19-94 Разработка и поддержка — AMdesign.ru Обнаружив неточность в тексте на данной странице, выделите ее и нажмите Ctrl+Enter', 'В ООН назвали возможной перспективу ядерного конфликта на Украине. Об этом передает РИА Новости. Заявление сделал глава дирекции УКГВ ООН Рамеш Раджасингхам. По его словам, многие мирные жители Украины отрезаны от еды, воды, электричества. Раджасингхам сказал, что «когда-то немыслимая» перспектива ядерного конфликта «снова стала возможной». © 2004–2022. Все права защищены.Рязанский городской сайт RZN.info Реестровая запись СМИ Эл № ФС77-41916, выдано Роскомнадзором 10.09.2010 г +7 (4912) 470-700, +7 (903) 839-19-94 Разработка и поддержка — AMdesign.ru Обнаружив неточность в тексте на данной странице, выделите ее и нажмите Ctrl+Enter', 'Совфед одобрил закон об отмене возрастного предела для заключения контракта на военную службу. Об этом пишет РИА Новости. Законопроект внесли на рассмотрение в Госдуму 20 мая. Его одобрили в трех чтениях. Нововведения предусматривают отмену верхнего возрастного предела на заключение первого контракта на прохождение военной службы для трудоспособного населения России, а также для иностранных граждан. В настоящее время для россиян действует ограничение с 18 до 40 лет, для иностранцев с 18 до 30 лет. Отмечается, что необходимый опыт для обращения с высокоточным оружием и военной техникой военнослужащие приобретают к 40-45 годам. По мнению замминистра обороны Николая Панкова, документ позволит привлечь в армию новых специалистов: водителей, фельдшеров и поваров.  © 2004–2022. Все права защищены.Рязанский городской сайт RZN.info Реестровая запись СМИ Эл № ФС77-41916, выдано Роскомнадзором 10.09.2010 г +7 (4912) 470-700, +7 (903) 839-19-94 Разработка и поддержка — AMdesign.ru Обнаружив неточность в тексте на данной странице, выделите ее и нажмите Ctrl+Enter', 'Путин упростил получение гражданства жителям Херсонской и Запорожской областей. Об этом пишет РИА Новости. В среду, 25 мая, президент Владимир Путин подписал соответствующий указ. Напомним, ранее власти Херсонской области заявили о намерении войти в состав России. Позже руководство Запорожской области также объявило о желании присоединиться к России после полного освобождения от националистов. © 2004–2022. Все права защищены.Рязанский городской сайт RZN.info Реестровая запись СМИ Эл № ФС77-41916, выдано Роскомнадзором 10.09.2010 г +7 (4912) 470-700, +7 (903) 839-19-94 Разработка и поддержка — AMdesign.ru Обнаружив неточность в тексте на данной странице, выделите ее и нажмите Ctrl+Enter']\n"
          ]
        }
      ]
    },
    {
      "cell_type": "code",
      "metadata": {
        "id": "1caCVyBfmGmC",
        "colab": {
          "base_uri": "https://localhost:8080/",
          "height": 1000
        },
        "outputId": "4c9ba6c8-6c98-4549-bf4f-88a31db1e464"
      },
      "source": [
        "from pandas import DataFrame\n",
        "d = {'Titles': titles, 'News': texts}\n",
        "nws = pd.DataFrame(data=d)\n",
        "nws"
      ],
      "execution_count": null,
      "outputs": [
        {
          "output_type": "execute_result",
          "data": {
            "text/plain": [
              "                                               Titles  \\\n",
              "0   В Рязанской области простились с тремя военнос...   \n",
              "1   В Александро-Невском в ДТП попал 15-летний мот...   \n",
              "2   Центральный банк России снизил ключевую ставку...   \n",
              "3   В Рязани у ЖК «Чайка» в ДТП попал велосипедист...   \n",
              "4   McDonald’s выбирает новое название для рестора...   \n",
              "5   В Лесопарке обнаружили погибшего лосенка. Об э...   \n",
              "6   Четверг — традиционный день киноновинок. Афиша...   \n",
              "7   Турецкие бренды одежды и товаров для дома план...   \n",
              "8   Андрея Чичкова, пропавшего в Ряжске, нашли жив...   \n",
              "9   Рязанцев предупредили о сильном ветре. Сообщен...   \n",
              "10  В Белгородской области скончалась женщина, пол...   \n",
              "11  В Омской области 15-летний подросток утонул в ...   \n",
              "12  Умер один из основателей Depeche Mode Энди Фле...   \n",
              "13  В Омской области семиклассник утонул в аквапар...   \n",
              "14  Суд признал законным увольнение росгвардейцев ...   \n",
              "15  В Рязани на улице Спортивной столкнулись два к...   \n",
              "16  Рязанку оштрафовали за заросший сорняками сель...   \n",
              "17  В Рязани пересмотрят систему уборки мест отдых...   \n",
              "18  Жителя Михайловского района осудят за незаконн...   \n",
              "19  На «Азовстали» задержали спрятавшихся украинск...   \n",
              "20  Россия никогда не уйдет с освобожденных террит...   \n",
              "21  Украина навсегда потеряла выход к Азовскому мо...   \n",
              "22  В среду, 25 мая, врио губернатора Рязанской об...   \n",
              "23  В ООН назвали возможной перспективу ядерного к...   \n",
              "24  Совфед одобрил закон об отмене возрастного пре...   \n",
              "25  Путин упростил получение гражданства жителям Х...   \n",
              "\n",
              "                                                 News  \n",
              "0   В Рязанской области простились с тремя военнос...  \n",
              "1   В Александро-Невском в ДТП попал 15-летний мот...  \n",
              "2   Центральный банк России снизил ключевую ставку...  \n",
              "3   В Рязани у ЖК «Чайка» в ДТП попал велосипедист...  \n",
              "4   McDonald’s выбирает новое название для рестора...  \n",
              "5   В Лесопарке обнаружили погибшего лосенка. Об э...  \n",
              "6   Четверг — традиционный день киноновинок. Афиша...  \n",
              "7   Турецкие бренды одежды и товаров для дома план...  \n",
              "8   Андрея Чичкова, пропавшего в Ряжске, нашли жив...  \n",
              "9   Рязанцев предупредили о сильном ветре. Сообщен...  \n",
              "10  В Белгородской области скончалась женщина, пол...  \n",
              "11  В Омской области 15-летний подросток утонул в ...  \n",
              "12  Умер один из основателей Depeche Mode Энди Фле...  \n",
              "13  В Омской области семиклассник утонул в аквапар...  \n",
              "14  Суд признал законным увольнение росгвардейцев ...  \n",
              "15  В Рязани на улице Спортивной столкнулись два к...  \n",
              "16  Рязанку оштрафовали за заросший сорняками сель...  \n",
              "17  В Рязани пересмотрят систему уборки мест отдых...  \n",
              "18  Жителя Михайловского района осудят за незаконн...  \n",
              "19  На «Азовстали» задержали спрятавшихся украинск...  \n",
              "20  Россия никогда не уйдет с освобожденных террит...  \n",
              "21  Украина навсегда потеряла выход к Азовскому мо...  \n",
              "22  В среду, 25 мая, врио губернатора Рязанской об...  \n",
              "23  В ООН назвали возможной перспективу ядерного к...  \n",
              "24  Совфед одобрил закон об отмене возрастного пре...  \n",
              "25  Путин упростил получение гражданства жителям Х...  "
            ],
            "text/html": [
              "\n",
              "  <div id=\"df-58526826-e926-47de-a591-72a84572d982\">\n",
              "    <div class=\"colab-df-container\">\n",
              "      <div>\n",
              "<style scoped>\n",
              "    .dataframe tbody tr th:only-of-type {\n",
              "        vertical-align: middle;\n",
              "    }\n",
              "\n",
              "    .dataframe tbody tr th {\n",
              "        vertical-align: top;\n",
              "    }\n",
              "\n",
              "    .dataframe thead th {\n",
              "        text-align: right;\n",
              "    }\n",
              "</style>\n",
              "<table border=\"1\" class=\"dataframe\">\n",
              "  <thead>\n",
              "    <tr style=\"text-align: right;\">\n",
              "      <th></th>\n",
              "      <th>Titles</th>\n",
              "      <th>News</th>\n",
              "    </tr>\n",
              "  </thead>\n",
              "  <tbody>\n",
              "    <tr>\n",
              "      <th>0</th>\n",
              "      <td>В Рязанской области простились с тремя военнос...</td>\n",
              "      <td>В Рязанской области простились с тремя военнос...</td>\n",
              "    </tr>\n",
              "    <tr>\n",
              "      <th>1</th>\n",
              "      <td>В Александро-Невском в ДТП попал 15-летний мот...</td>\n",
              "      <td>В Александро-Невском в ДТП попал 15-летний мот...</td>\n",
              "    </tr>\n",
              "    <tr>\n",
              "      <th>2</th>\n",
              "      <td>Центральный банк России снизил ключевую ставку...</td>\n",
              "      <td>Центральный банк России снизил ключевую ставку...</td>\n",
              "    </tr>\n",
              "    <tr>\n",
              "      <th>3</th>\n",
              "      <td>В Рязани у ЖК «Чайка» в ДТП попал велосипедист...</td>\n",
              "      <td>В Рязани у ЖК «Чайка» в ДТП попал велосипедист...</td>\n",
              "    </tr>\n",
              "    <tr>\n",
              "      <th>4</th>\n",
              "      <td>McDonald’s выбирает новое название для рестора...</td>\n",
              "      <td>McDonald’s выбирает новое название для рестора...</td>\n",
              "    </tr>\n",
              "    <tr>\n",
              "      <th>5</th>\n",
              "      <td>В Лесопарке обнаружили погибшего лосенка. Об э...</td>\n",
              "      <td>В Лесопарке обнаружили погибшего лосенка. Об э...</td>\n",
              "    </tr>\n",
              "    <tr>\n",
              "      <th>6</th>\n",
              "      <td>Четверг — традиционный день киноновинок. Афиша...</td>\n",
              "      <td>Четверг — традиционный день киноновинок. Афиша...</td>\n",
              "    </tr>\n",
              "    <tr>\n",
              "      <th>7</th>\n",
              "      <td>Турецкие бренды одежды и товаров для дома план...</td>\n",
              "      <td>Турецкие бренды одежды и товаров для дома план...</td>\n",
              "    </tr>\n",
              "    <tr>\n",
              "      <th>8</th>\n",
              "      <td>Андрея Чичкова, пропавшего в Ряжске, нашли жив...</td>\n",
              "      <td>Андрея Чичкова, пропавшего в Ряжске, нашли жив...</td>\n",
              "    </tr>\n",
              "    <tr>\n",
              "      <th>9</th>\n",
              "      <td>Рязанцев предупредили о сильном ветре. Сообщен...</td>\n",
              "      <td>Рязанцев предупредили о сильном ветре. Сообщен...</td>\n",
              "    </tr>\n",
              "    <tr>\n",
              "      <th>10</th>\n",
              "      <td>В Белгородской области скончалась женщина, пол...</td>\n",
              "      <td>В Белгородской области скончалась женщина, пол...</td>\n",
              "    </tr>\n",
              "    <tr>\n",
              "      <th>11</th>\n",
              "      <td>В Омской области 15-летний подросток утонул в ...</td>\n",
              "      <td>В Омской области 15-летний подросток утонул в ...</td>\n",
              "    </tr>\n",
              "    <tr>\n",
              "      <th>12</th>\n",
              "      <td>Умер один из основателей Depeche Mode Энди Фле...</td>\n",
              "      <td>Умер один из основателей Depeche Mode Энди Фле...</td>\n",
              "    </tr>\n",
              "    <tr>\n",
              "      <th>13</th>\n",
              "      <td>В Омской области семиклассник утонул в аквапар...</td>\n",
              "      <td>В Омской области семиклассник утонул в аквапар...</td>\n",
              "    </tr>\n",
              "    <tr>\n",
              "      <th>14</th>\n",
              "      <td>Суд признал законным увольнение росгвардейцев ...</td>\n",
              "      <td>Суд признал законным увольнение росгвардейцев ...</td>\n",
              "    </tr>\n",
              "    <tr>\n",
              "      <th>15</th>\n",
              "      <td>В Рязани на улице Спортивной столкнулись два к...</td>\n",
              "      <td>В Рязани на улице Спортивной столкнулись два к...</td>\n",
              "    </tr>\n",
              "    <tr>\n",
              "      <th>16</th>\n",
              "      <td>Рязанку оштрафовали за заросший сорняками сель...</td>\n",
              "      <td>Рязанку оштрафовали за заросший сорняками сель...</td>\n",
              "    </tr>\n",
              "    <tr>\n",
              "      <th>17</th>\n",
              "      <td>В Рязани пересмотрят систему уборки мест отдых...</td>\n",
              "      <td>В Рязани пересмотрят систему уборки мест отдых...</td>\n",
              "    </tr>\n",
              "    <tr>\n",
              "      <th>18</th>\n",
              "      <td>Жителя Михайловского района осудят за незаконн...</td>\n",
              "      <td>Жителя Михайловского района осудят за незаконн...</td>\n",
              "    </tr>\n",
              "    <tr>\n",
              "      <th>19</th>\n",
              "      <td>На «Азовстали» задержали спрятавшихся украинск...</td>\n",
              "      <td>На «Азовстали» задержали спрятавшихся украинск...</td>\n",
              "    </tr>\n",
              "    <tr>\n",
              "      <th>20</th>\n",
              "      <td>Россия никогда не уйдет с освобожденных террит...</td>\n",
              "      <td>Россия никогда не уйдет с освобожденных террит...</td>\n",
              "    </tr>\n",
              "    <tr>\n",
              "      <th>21</th>\n",
              "      <td>Украина навсегда потеряла выход к Азовскому мо...</td>\n",
              "      <td>Украина навсегда потеряла выход к Азовскому мо...</td>\n",
              "    </tr>\n",
              "    <tr>\n",
              "      <th>22</th>\n",
              "      <td>В среду, 25 мая, врио губернатора Рязанской об...</td>\n",
              "      <td>В среду, 25 мая, врио губернатора Рязанской об...</td>\n",
              "    </tr>\n",
              "    <tr>\n",
              "      <th>23</th>\n",
              "      <td>В ООН назвали возможной перспективу ядерного к...</td>\n",
              "      <td>В ООН назвали возможной перспективу ядерного к...</td>\n",
              "    </tr>\n",
              "    <tr>\n",
              "      <th>24</th>\n",
              "      <td>Совфед одобрил закон об отмене возрастного пре...</td>\n",
              "      <td>Совфед одобрил закон об отмене возрастного пре...</td>\n",
              "    </tr>\n",
              "    <tr>\n",
              "      <th>25</th>\n",
              "      <td>Путин упростил получение гражданства жителям Х...</td>\n",
              "      <td>Путин упростил получение гражданства жителям Х...</td>\n",
              "    </tr>\n",
              "  </tbody>\n",
              "</table>\n",
              "</div>\n",
              "      <button class=\"colab-df-convert\" onclick=\"convertToInteractive('df-58526826-e926-47de-a591-72a84572d982')\"\n",
              "              title=\"Convert this dataframe to an interactive table.\"\n",
              "              style=\"display:none;\">\n",
              "        \n",
              "  <svg xmlns=\"http://www.w3.org/2000/svg\" height=\"24px\"viewBox=\"0 0 24 24\"\n",
              "       width=\"24px\">\n",
              "    <path d=\"M0 0h24v24H0V0z\" fill=\"none\"/>\n",
              "    <path d=\"M18.56 5.44l.94 2.06.94-2.06 2.06-.94-2.06-.94-.94-2.06-.94 2.06-2.06.94zm-11 1L8.5 8.5l.94-2.06 2.06-.94-2.06-.94L8.5 2.5l-.94 2.06-2.06.94zm10 10l.94 2.06.94-2.06 2.06-.94-2.06-.94-.94-2.06-.94 2.06-2.06.94z\"/><path d=\"M17.41 7.96l-1.37-1.37c-.4-.4-.92-.59-1.43-.59-.52 0-1.04.2-1.43.59L10.3 9.45l-7.72 7.72c-.78.78-.78 2.05 0 2.83L4 21.41c.39.39.9.59 1.41.59.51 0 1.02-.2 1.41-.59l7.78-7.78 2.81-2.81c.8-.78.8-2.07 0-2.86zM5.41 20L4 18.59l7.72-7.72 1.47 1.35L5.41 20z\"/>\n",
              "  </svg>\n",
              "      </button>\n",
              "      \n",
              "  <style>\n",
              "    .colab-df-container {\n",
              "      display:flex;\n",
              "      flex-wrap:wrap;\n",
              "      gap: 12px;\n",
              "    }\n",
              "\n",
              "    .colab-df-convert {\n",
              "      background-color: #E8F0FE;\n",
              "      border: none;\n",
              "      border-radius: 50%;\n",
              "      cursor: pointer;\n",
              "      display: none;\n",
              "      fill: #1967D2;\n",
              "      height: 32px;\n",
              "      padding: 0 0 0 0;\n",
              "      width: 32px;\n",
              "    }\n",
              "\n",
              "    .colab-df-convert:hover {\n",
              "      background-color: #E2EBFA;\n",
              "      box-shadow: 0px 1px 2px rgba(60, 64, 67, 0.3), 0px 1px 3px 1px rgba(60, 64, 67, 0.15);\n",
              "      fill: #174EA6;\n",
              "    }\n",
              "\n",
              "    [theme=dark] .colab-df-convert {\n",
              "      background-color: #3B4455;\n",
              "      fill: #D2E3FC;\n",
              "    }\n",
              "\n",
              "    [theme=dark] .colab-df-convert:hover {\n",
              "      background-color: #434B5C;\n",
              "      box-shadow: 0px 1px 3px 1px rgba(0, 0, 0, 0.15);\n",
              "      filter: drop-shadow(0px 1px 2px rgba(0, 0, 0, 0.3));\n",
              "      fill: #FFFFFF;\n",
              "    }\n",
              "  </style>\n",
              "\n",
              "      <script>\n",
              "        const buttonEl =\n",
              "          document.querySelector('#df-58526826-e926-47de-a591-72a84572d982 button.colab-df-convert');\n",
              "        buttonEl.style.display =\n",
              "          google.colab.kernel.accessAllowed ? 'block' : 'none';\n",
              "\n",
              "        async function convertToInteractive(key) {\n",
              "          const element = document.querySelector('#df-58526826-e926-47de-a591-72a84572d982');\n",
              "          const dataTable =\n",
              "            await google.colab.kernel.invokeFunction('convertToInteractive',\n",
              "                                                     [key], {});\n",
              "          if (!dataTable) return;\n",
              "\n",
              "          const docLinkHtml = 'Like what you see? Visit the ' +\n",
              "            '<a target=\"_blank\" href=https://colab.research.google.com/notebooks/data_table.ipynb>data table notebook</a>'\n",
              "            + ' to learn more about interactive tables.';\n",
              "          element.innerHTML = '';\n",
              "          dataTable['output_type'] = 'display_data';\n",
              "          await google.colab.output.renderOutput(dataTable, element);\n",
              "          const docLink = document.createElement('div');\n",
              "          docLink.innerHTML = docLinkHtml;\n",
              "          element.appendChild(docLink);\n",
              "        }\n",
              "      </script>\n",
              "    </div>\n",
              "  </div>\n",
              "  "
            ]
          },
          "metadata": {},
          "execution_count": 8
        }
      ]
    },
    {
      "cell_type": "code",
      "metadata": {
        "id": "T4uljC82L8jS"
      },
      "source": [
        "from sklearn.feature_extraction.text import CountVectorizer\n",
        "from tqdm import tqdm"
      ],
      "execution_count": null,
      "outputs": []
    },
    {
      "cell_type": "code",
      "metadata": {
        "colab": {
          "base_uri": "https://localhost:8080/"
        },
        "id": "7b1iVu40UiES",
        "outputId": "151731d8-7b5d-4ea0-9003-b38119cf0db1"
      },
      "source": [
        "!pip install pymorphy2\n",
        "import pymorphy2\n",
        "morph=pymorphy2.MorphAnalyzer()"
      ],
      "execution_count": null,
      "outputs": [
        {
          "output_type": "stream",
          "name": "stdout",
          "text": [
            "Looking in indexes: https://pypi.org/simple, https://us-python.pkg.dev/colab-wheels/public/simple/\n",
            "Collecting pymorphy2\n",
            "  Downloading pymorphy2-0.9.1-py3-none-any.whl (55 kB)\n",
            "\u001b[K     |████████████████████████████████| 55 kB 2.2 MB/s \n",
            "\u001b[?25hCollecting dawg-python>=0.7.1\n",
            "  Downloading DAWG_Python-0.7.2-py2.py3-none-any.whl (11 kB)\n",
            "Collecting pymorphy2-dicts-ru<3.0,>=2.4\n",
            "  Downloading pymorphy2_dicts_ru-2.4.417127.4579844-py2.py3-none-any.whl (8.2 MB)\n",
            "\u001b[K     |████████████████████████████████| 8.2 MB 10.3 MB/s \n",
            "\u001b[?25hRequirement already satisfied: docopt>=0.6 in /usr/local/lib/python3.7/dist-packages (from pymorphy2) (0.6.2)\n",
            "Installing collected packages: pymorphy2-dicts-ru, dawg-python, pymorphy2\n",
            "Successfully installed dawg-python-0.7.2 pymorphy2-0.9.1 pymorphy2-dicts-ru-2.4.417127.4579844\n"
          ]
        }
      ]
    },
    {
      "cell_type": "code",
      "metadata": {
        "id": "W4ViBi_9LdzB"
      },
      "source": [
        "def getMostFrequentWords(text):\n",
        "    counter=CountVectorizer(ngram_range=(1,2), token_pattern=r'[A-Za-zА-Яа-яЁё]+\\-[A-Za-zА-Яа-яЁё]+|[A-Za-zА-Яа-яЁё]+')\n",
        "    res=counter.fit_transform([text])\n",
        "    frq = sorted([(i, res[0,i]) for i in range(res[0].shape[1])], \n",
        "                 key = lambda x: x[1], reverse = True)[:5]\n",
        "    vocabular = {w:res[0,i] for w,i in counter.vocabulary_.items()}\n",
        "    return [[w for w, n in counter.vocabulary_.items() if n==i][0] \n",
        "            for i, f in frq], vocabular"
      ],
      "execution_count": null,
      "outputs": []
    },
    {
      "cell_type": "code",
      "metadata": {
        "id": "N6zNSTWSUJ0l"
      },
      "source": [
        "imp_POS = ['ADJF', 'ADJS', 'NOUN', 'VERB', 'PRTF', 'PRTS', 'GRND']\n",
        "\n",
        "def getMostFrequentWordsFiltered(text):\n",
        "    \n",
        "    tokens = re.findall('[A-Za-zА-Яа-яЁё]+\\-[A-Za-zА-Яа-яЁё]+|[A-Za-zА-Яа-яЁё]+', text)\n",
        "    words = []\n",
        "    for t in tokens:\n",
        "        pv = morph.parse(t)\n",
        "        if pv[0].tag.POS in imp_POS and pv[0].normal_form != 'быть':\n",
        "            words.append(pv[0].normal_form)\n",
        "    text = ' '.join(words)\n",
        "    \n",
        "    counter=CountVectorizer(ngram_range=(1,2), token_pattern=r'[A-Za-zА-Яа-яЁё]+\\-[A-Za-zА-Яа-яЁё]+|[A-Za-zА-Яа-яЁё]+')\n",
        "    res=counter.fit_transform([text])\n",
        "    frq = sorted([(i, int(res[0][0,i])) for i in range(res[0].shape[1])], key = lambda x: x[1], reverse = True)[:5]\n",
        "    vocab = {w:res[0,i] for w,i in counter.vocabulary_.items()}\n",
        "    return [[w for w, n in counter.vocabulary_.items() if n==i][0] for i, f in frq], vocab"
      ],
      "execution_count": null,
      "outputs": []
    },
    {
      "cell_type": "code",
      "metadata": {
        "colab": {
          "base_uri": "https://localhost:8080/"
        },
        "id": "IjnBwmY7Pzes",
        "outputId": "fccfe875-1c4b-41fa-c033-b7f58c5b41ae"
      },
      "source": [
        "freqwords = []\n",
        "vocabular = []\n",
        "for i in tqdm(range(nws.shape[0])):\n",
        "    fw, v = getMostFrequentWordsFiltered(nws.News.iloc[i])\n",
        "    freqwords.append(fw)\n",
        "    vocabular.append(v)\n",
        "    \n",
        "nws['Vocabular'] = vocabular\n",
        "nws['Freq Words'] = freqwords"
      ],
      "execution_count": null,
      "outputs": [
        {
          "output_type": "stream",
          "name": "stderr",
          "text": [
            "100%|██████████| 26/26 [00:04<00:00,  5.81it/s]\n"
          ]
        }
      ]
    },
    {
      "cell_type": "code",
      "metadata": {
        "colab": {
          "base_uri": "https://localhost:8080/",
          "height": 617
        },
        "id": "5zStTHPl3tvZ",
        "outputId": "1b1a518a-2dc5-4f8a-c1b4-87d68e171375"
      },
      "source": [
        "nws.head()"
      ],
      "execution_count": null,
      "outputs": [
        {
          "output_type": "execute_result",
          "data": {
            "text/plain": [
              "                                              Titles  \\\n",
              "0  В Рязанской области простились с тремя военнос...   \n",
              "1  В Александро-Невском в ДТП попал 15-летний мот...   \n",
              "2  Центральный банк России снизил ключевую ставку...   \n",
              "3  В Рязани у ЖК «Чайка» в ДТП попал велосипедист...   \n",
              "4  McDonald’s выбирает новое название для рестора...   \n",
              "\n",
              "                                                News  \\\n",
              "0  В Рязанской области простились с тремя военнос...   \n",
              "1  В Александро-Невском в ДТП попал 15-летний мот...   \n",
              "2  Центральный банк России снизил ключевую ставку...   \n",
              "3  В Рязани у ЖК «Чайка» в ДТП попал велосипедист...   \n",
              "4  McDonald’s выбирает новое название для рестора...   \n",
              "\n",
              "                                           Vocabular  \\\n",
              "0  {'рязанский': 5, 'область': 1, 'проститься': 2...   \n",
              "1  {'александро-невский': 2, 'дтп': 1, 'попасть':...   \n",
              "2  {'центральный': 1, 'банк': 1, 'россия': 1, 'сн...   \n",
              "3  {'рязань': 1, 'чайка': 1, 'дтп': 1, 'попасть':...   \n",
              "4  {'выбирать': 1, 'новый': 2, 'название': 2, 'ре...   \n",
              "\n",
              "                                          Freq Words  \n",
              "0  [рязанский, гвардия, гвардия старший, простить...  \n",
              "1  [мотоцикл, александро-невский, водитель, мотоц...  \n",
              "2  [ключевой, ключевой ставка, сайт, ставка, апрель]  \n",
              "3  [велосипедист, попасть, авария, авария попасть...  \n",
              "4     [заявка, бренд, известный, источник, название]  "
            ],
            "text/html": [
              "\n",
              "  <div id=\"df-32bff295-7dda-4efe-ac68-52e7e8ad4bcd\">\n",
              "    <div class=\"colab-df-container\">\n",
              "      <div>\n",
              "<style scoped>\n",
              "    .dataframe tbody tr th:only-of-type {\n",
              "        vertical-align: middle;\n",
              "    }\n",
              "\n",
              "    .dataframe tbody tr th {\n",
              "        vertical-align: top;\n",
              "    }\n",
              "\n",
              "    .dataframe thead th {\n",
              "        text-align: right;\n",
              "    }\n",
              "</style>\n",
              "<table border=\"1\" class=\"dataframe\">\n",
              "  <thead>\n",
              "    <tr style=\"text-align: right;\">\n",
              "      <th></th>\n",
              "      <th>Titles</th>\n",
              "      <th>News</th>\n",
              "      <th>Vocabular</th>\n",
              "      <th>Freq Words</th>\n",
              "    </tr>\n",
              "  </thead>\n",
              "  <tbody>\n",
              "    <tr>\n",
              "      <th>0</th>\n",
              "      <td>В Рязанской области простились с тремя военнос...</td>\n",
              "      <td>В Рязанской области простились с тремя военнос...</td>\n",
              "      <td>{'рязанский': 5, 'область': 1, 'проститься': 2...</td>\n",
              "      <td>[рязанский, гвардия, гвардия старший, простить...</td>\n",
              "    </tr>\n",
              "    <tr>\n",
              "      <th>1</th>\n",
              "      <td>В Александро-Невском в ДТП попал 15-летний мот...</td>\n",
              "      <td>В Александро-Невском в ДТП попал 15-летний мот...</td>\n",
              "      <td>{'александро-невский': 2, 'дтп': 1, 'попасть':...</td>\n",
              "      <td>[мотоцикл, александро-невский, водитель, мотоц...</td>\n",
              "    </tr>\n",
              "    <tr>\n",
              "      <th>2</th>\n",
              "      <td>Центральный банк России снизил ключевую ставку...</td>\n",
              "      <td>Центральный банк России снизил ключевую ставку...</td>\n",
              "      <td>{'центральный': 1, 'банк': 1, 'россия': 1, 'сн...</td>\n",
              "      <td>[ключевой, ключевой ставка, сайт, ставка, апрель]</td>\n",
              "    </tr>\n",
              "    <tr>\n",
              "      <th>3</th>\n",
              "      <td>В Рязани у ЖК «Чайка» в ДТП попал велосипедист...</td>\n",
              "      <td>В Рязани у ЖК «Чайка» в ДТП попал велосипедист...</td>\n",
              "      <td>{'рязань': 1, 'чайка': 1, 'дтп': 1, 'попасть':...</td>\n",
              "      <td>[велосипедист, попасть, авария, авария попасть...</td>\n",
              "    </tr>\n",
              "    <tr>\n",
              "      <th>4</th>\n",
              "      <td>McDonald’s выбирает новое название для рестора...</td>\n",
              "      <td>McDonald’s выбирает новое название для рестора...</td>\n",
              "      <td>{'выбирать': 1, 'новый': 2, 'название': 2, 'ре...</td>\n",
              "      <td>[заявка, бренд, известный, источник, название]</td>\n",
              "    </tr>\n",
              "  </tbody>\n",
              "</table>\n",
              "</div>\n",
              "      <button class=\"colab-df-convert\" onclick=\"convertToInteractive('df-32bff295-7dda-4efe-ac68-52e7e8ad4bcd')\"\n",
              "              title=\"Convert this dataframe to an interactive table.\"\n",
              "              style=\"display:none;\">\n",
              "        \n",
              "  <svg xmlns=\"http://www.w3.org/2000/svg\" height=\"24px\"viewBox=\"0 0 24 24\"\n",
              "       width=\"24px\">\n",
              "    <path d=\"M0 0h24v24H0V0z\" fill=\"none\"/>\n",
              "    <path d=\"M18.56 5.44l.94 2.06.94-2.06 2.06-.94-2.06-.94-.94-2.06-.94 2.06-2.06.94zm-11 1L8.5 8.5l.94-2.06 2.06-.94-2.06-.94L8.5 2.5l-.94 2.06-2.06.94zm10 10l.94 2.06.94-2.06 2.06-.94-2.06-.94-.94-2.06-.94 2.06-2.06.94z\"/><path d=\"M17.41 7.96l-1.37-1.37c-.4-.4-.92-.59-1.43-.59-.52 0-1.04.2-1.43.59L10.3 9.45l-7.72 7.72c-.78.78-.78 2.05 0 2.83L4 21.41c.39.39.9.59 1.41.59.51 0 1.02-.2 1.41-.59l7.78-7.78 2.81-2.81c.8-.78.8-2.07 0-2.86zM5.41 20L4 18.59l7.72-7.72 1.47 1.35L5.41 20z\"/>\n",
              "  </svg>\n",
              "      </button>\n",
              "      \n",
              "  <style>\n",
              "    .colab-df-container {\n",
              "      display:flex;\n",
              "      flex-wrap:wrap;\n",
              "      gap: 12px;\n",
              "    }\n",
              "\n",
              "    .colab-df-convert {\n",
              "      background-color: #E8F0FE;\n",
              "      border: none;\n",
              "      border-radius: 50%;\n",
              "      cursor: pointer;\n",
              "      display: none;\n",
              "      fill: #1967D2;\n",
              "      height: 32px;\n",
              "      padding: 0 0 0 0;\n",
              "      width: 32px;\n",
              "    }\n",
              "\n",
              "    .colab-df-convert:hover {\n",
              "      background-color: #E2EBFA;\n",
              "      box-shadow: 0px 1px 2px rgba(60, 64, 67, 0.3), 0px 1px 3px 1px rgba(60, 64, 67, 0.15);\n",
              "      fill: #174EA6;\n",
              "    }\n",
              "\n",
              "    [theme=dark] .colab-df-convert {\n",
              "      background-color: #3B4455;\n",
              "      fill: #D2E3FC;\n",
              "    }\n",
              "\n",
              "    [theme=dark] .colab-df-convert:hover {\n",
              "      background-color: #434B5C;\n",
              "      box-shadow: 0px 1px 3px 1px rgba(0, 0, 0, 0.15);\n",
              "      filter: drop-shadow(0px 1px 2px rgba(0, 0, 0, 0.3));\n",
              "      fill: #FFFFFF;\n",
              "    }\n",
              "  </style>\n",
              "\n",
              "      <script>\n",
              "        const buttonEl =\n",
              "          document.querySelector('#df-32bff295-7dda-4efe-ac68-52e7e8ad4bcd button.colab-df-convert');\n",
              "        buttonEl.style.display =\n",
              "          google.colab.kernel.accessAllowed ? 'block' : 'none';\n",
              "\n",
              "        async function convertToInteractive(key) {\n",
              "          const element = document.querySelector('#df-32bff295-7dda-4efe-ac68-52e7e8ad4bcd');\n",
              "          const dataTable =\n",
              "            await google.colab.kernel.invokeFunction('convertToInteractive',\n",
              "                                                     [key], {});\n",
              "          if (!dataTable) return;\n",
              "\n",
              "          const docLinkHtml = 'Like what you see? Visit the ' +\n",
              "            '<a target=\"_blank\" href=https://colab.research.google.com/notebooks/data_table.ipynb>data table notebook</a>'\n",
              "            + ' to learn more about interactive tables.';\n",
              "          element.innerHTML = '';\n",
              "          dataTable['output_type'] = 'display_data';\n",
              "          await google.colab.output.renderOutput(dataTable, element);\n",
              "          const docLink = document.createElement('div');\n",
              "          docLink.innerHTML = docLinkHtml;\n",
              "          element.appendChild(docLink);\n",
              "        }\n",
              "      </script>\n",
              "    </div>\n",
              "  </div>\n",
              "  "
            ]
          },
          "metadata": {},
          "execution_count": 14
        }
      ]
    },
    {
      "cell_type": "code",
      "metadata": {
        "id": "Pr2kmfkZeJmu"
      },
      "source": [
        "from sklearn.feature_extraction.text import TfidfVectorizer\n",
        "import numpy as np"
      ],
      "execution_count": null,
      "outputs": []
    },
    {
      "cell_type": "code",
      "metadata": {
        "id": "w6Wgw9zIeOJf"
      },
      "source": [
        "def normalizePymorphy2(text):\n",
        "    tokens = re.findall('[A-Za-zА-Яа-яЁё]+\\-[A-Za-zА-Яа-яЁё]+|[A-Za-zА-Яа-яЁё]+', text)\n",
        "    words = []\n",
        "    for t in tokens:\n",
        "        pv = morph.parse(t)\n",
        "        words.append(pv[0].normal_form)\n",
        "    return words"
      ],
      "execution_count": null,
      "outputs": []
    },
    {
      "cell_type": "code",
      "metadata": {
        "id": "gtAmEK92eQTH",
        "colab": {
          "base_uri": "https://localhost:8080/"
        },
        "outputId": "81bf220f-f57f-438f-8478-1337bc5357b7"
      },
      "source": [
        "tfCounter=TfidfVectorizer(lowercase=True, analyzer='word', min_df=2, max_features =5000, stop_words = ['мы', 'ее', 'между', 'собой', 'но', 'снова', 'там', 'о', 'однажды', 'во время', 'вне', 'очень', ' иметь ',' с ',' они ',' свой ', 'самой', 'или', ' ему ',' каждому ',' тому ', 'самим', 'до', 'ниже', 'мы', 'мы', 'эти', 'ваши', 'его', 'до' , 'не' , 'ни', 'я', 'были', 'ее', 'больше', 'он сам', 'это', 'вниз', 'должен', 'наш', 'их', 'пока',  'выше',' оба ',' вверх ',' до ',' наш ',' имел ',' она ',' все ',' нет ',' когда ',' в ',' любое ',' до ' , 'им', 'то же самое', 'и', 'был', 'имейте', 'в', 'будет', 'на', 'делает', 'вы', 'тогда', 'тот', ' потому что что', 'над', 'почему', 'так', 'может', 'сделал', 'не', 'сейчас', 'под', 'он', 'ты', 'сама' , 'имеет', 'просто', 'где', 'тоже', 'только', 'я', 'который', 'те', 'я', 'после', 'несколько', 'кого',' бытие ',' если ',' их ',' мое ',' против ',' a ',' by ',' делать ',' это ',' как ',' дальше ',' было ', 'здесь'])\n",
        "tfres=tfCounter.fit_transform([' '.join(normalizePymorphy2(n)) for n in nws.News] )"
      ],
      "execution_count": null,
      "outputs": [
        {
          "output_type": "stream",
          "name": "stderr",
          "text": [
            "/usr/local/lib/python3.7/dist-packages/sklearn/feature_extraction/text.py:401: UserWarning: Your stop_words may be inconsistent with your preprocessing. Tokenizing the stop words generated tokens ['an', 'be', 'by', 'do', 'for', 'into', 'its', 'some', 'such', 'yours', 'больше', 'были', 'было', 'бытие', 'ваши', 'вверх', 'вниз', 'во', 'время', 'все', 'выше', 'где', 'дальше', 'делать', 'до', 'должен', 'его', 'ему', 'если', 'же', 'имеет', 'имел', 'иметь', 'их', 'каждому', 'как', 'когда', 'кого', 'который', 'любое', 'мое', 'может', 'над', 'наш', 'не', 'несколько', 'нет', 'ни', 'ниже', 'оба', 'он', 'она', 'они', 'под', 'пока', 'после', 'потому', 'почему', 'просто', 'против', 'сам', 'сама', 'самим', 'самое', 'свой', 'сделал', 'сейчас', 'так', 'те', 'то', 'тоже', 'только', 'тому', 'ты', 'что', 'эти', 'это'] not in stop_words.\n",
            "  % sorted(inconsistent)\n"
          ]
        }
      ]
    },
    {
      "cell_type": "code",
      "metadata": {
        "colab": {
          "base_uri": "https://localhost:8080/"
        },
        "id": "b6KQRtdreiw4",
        "outputId": "680e7fa3-2efd-4b60-cb5c-575a49e639f1"
      },
      "source": [
        "freqwords = []\n",
        "for i in tqdm(range(nws.shape[0])):\n",
        "\n",
        "    tfs = [(k,tfres[i][0, tfCounter.vocabulary_.get(k)]) for k in nws.Vocabular.iloc[i] \n",
        "         if k in tfCounter.vocabulary_.keys()]\n",
        "    fw = [w for w, f in sorted(tfs, key = lambda x: x[1], reverse = True)[:5]]\n",
        "    freqwords.append(fw)\n",
        "    \n",
        "nws['Freq Words TFIDF'] = freqwords"
      ],
      "execution_count": null,
      "outputs": [
        {
          "output_type": "stream",
          "name": "stderr",
          "text": [
            "100%|██████████| 26/26 [00:00<00:00, 177.93it/s]\n"
          ]
        }
      ]
    },
    {
      "cell_type": "code",
      "metadata": {
        "colab": {
          "base_uri": "https://localhost:8080/",
          "height": 635
        },
        "id": "cJjFbBqd4vMV",
        "outputId": "44b8beae-24fa-4eb2-cbdb-d51d1a30aab5"
      },
      "source": [
        "nws.head()"
      ],
      "execution_count": null,
      "outputs": [
        {
          "output_type": "execute_result",
          "data": {
            "text/plain": [
              "                                              Titles  \\\n",
              "0  В Рязанской области простились с тремя военнос...   \n",
              "1  В Александро-Невском в ДТП попал 15-летний мот...   \n",
              "2  Центральный банк России снизил ключевую ставку...   \n",
              "3  В Рязани у ЖК «Чайка» в ДТП попал велосипедист...   \n",
              "4  McDonald’s выбирает новое название для рестора...   \n",
              "\n",
              "                                                News  \\\n",
              "0  В Рязанской области простились с тремя военнос...   \n",
              "1  В Александро-Невском в ДТП попал 15-летний мот...   \n",
              "2  Центральный банк России снизил ключевую ставку...   \n",
              "3  В Рязани у ЖК «Чайка» в ДТП попал велосипедист...   \n",
              "4  McDonald’s выбирает новое название для рестора...   \n",
              "\n",
              "                                           Vocabular  \\\n",
              "0  {'рязанский': 5, 'область': 1, 'проститься': 2...   \n",
              "1  {'александро-невский': 2, 'дтп': 1, 'попасть':...   \n",
              "2  {'центральный': 1, 'банк': 1, 'россия': 1, 'сн...   \n",
              "3  {'рязань': 1, 'чайка': 1, 'дтп': 1, 'попасть':...   \n",
              "4  {'выбирать': 1, 'новый': 2, 'название': 2, 'ре...   \n",
              "\n",
              "                                          Freq Words  \\\n",
              "0  [рязанский, гвардия, гвардия старший, простить...   \n",
              "1  [мотоцикл, александро-невский, водитель, мотоц...   \n",
              "2  [ключевой, ключевой ставка, сайт, ставка, апрель]   \n",
              "3  [велосипедист, попасть, авария, авария попасть...   \n",
              "4     [заявка, бренд, известный, источник, название]   \n",
              "\n",
              "                                    Freq Words TFIDF  \n",
              "0      [украина, рязань, рязанский, район, погибший]  \n",
              "1  [водитель, отмечаться, попасть, улица, врезаться]  \n",
              "2  [ключевой, информация, появиться, вступить, сила]  \n",
              "3       [попасть, вконтакте, врезаться, дтп, авария]  \n",
              "4           [подать, бренд, новый, россия, ресторан]  "
            ],
            "text/html": [
              "\n",
              "  <div id=\"df-2d6aad4a-e646-4587-aea8-cc18e3a87afb\">\n",
              "    <div class=\"colab-df-container\">\n",
              "      <div>\n",
              "<style scoped>\n",
              "    .dataframe tbody tr th:only-of-type {\n",
              "        vertical-align: middle;\n",
              "    }\n",
              "\n",
              "    .dataframe tbody tr th {\n",
              "        vertical-align: top;\n",
              "    }\n",
              "\n",
              "    .dataframe thead th {\n",
              "        text-align: right;\n",
              "    }\n",
              "</style>\n",
              "<table border=\"1\" class=\"dataframe\">\n",
              "  <thead>\n",
              "    <tr style=\"text-align: right;\">\n",
              "      <th></th>\n",
              "      <th>Titles</th>\n",
              "      <th>News</th>\n",
              "      <th>Vocabular</th>\n",
              "      <th>Freq Words</th>\n",
              "      <th>Freq Words TFIDF</th>\n",
              "    </tr>\n",
              "  </thead>\n",
              "  <tbody>\n",
              "    <tr>\n",
              "      <th>0</th>\n",
              "      <td>В Рязанской области простились с тремя военнос...</td>\n",
              "      <td>В Рязанской области простились с тремя военнос...</td>\n",
              "      <td>{'рязанский': 5, 'область': 1, 'проститься': 2...</td>\n",
              "      <td>[рязанский, гвардия, гвардия старший, простить...</td>\n",
              "      <td>[украина, рязань, рязанский, район, погибший]</td>\n",
              "    </tr>\n",
              "    <tr>\n",
              "      <th>1</th>\n",
              "      <td>В Александро-Невском в ДТП попал 15-летний мот...</td>\n",
              "      <td>В Александро-Невском в ДТП попал 15-летний мот...</td>\n",
              "      <td>{'александро-невский': 2, 'дтп': 1, 'попасть':...</td>\n",
              "      <td>[мотоцикл, александро-невский, водитель, мотоц...</td>\n",
              "      <td>[водитель, отмечаться, попасть, улица, врезаться]</td>\n",
              "    </tr>\n",
              "    <tr>\n",
              "      <th>2</th>\n",
              "      <td>Центральный банк России снизил ключевую ставку...</td>\n",
              "      <td>Центральный банк России снизил ключевую ставку...</td>\n",
              "      <td>{'центральный': 1, 'банк': 1, 'россия': 1, 'сн...</td>\n",
              "      <td>[ключевой, ключевой ставка, сайт, ставка, апрель]</td>\n",
              "      <td>[ключевой, информация, появиться, вступить, сила]</td>\n",
              "    </tr>\n",
              "    <tr>\n",
              "      <th>3</th>\n",
              "      <td>В Рязани у ЖК «Чайка» в ДТП попал велосипедист...</td>\n",
              "      <td>В Рязани у ЖК «Чайка» в ДТП попал велосипедист...</td>\n",
              "      <td>{'рязань': 1, 'чайка': 1, 'дтп': 1, 'попасть':...</td>\n",
              "      <td>[велосипедист, попасть, авария, авария попасть...</td>\n",
              "      <td>[попасть, вконтакте, врезаться, дтп, авария]</td>\n",
              "    </tr>\n",
              "    <tr>\n",
              "      <th>4</th>\n",
              "      <td>McDonald’s выбирает новое название для рестора...</td>\n",
              "      <td>McDonald’s выбирает новое название для рестора...</td>\n",
              "      <td>{'выбирать': 1, 'новый': 2, 'название': 2, 'ре...</td>\n",
              "      <td>[заявка, бренд, известный, источник, название]</td>\n",
              "      <td>[подать, бренд, новый, россия, ресторан]</td>\n",
              "    </tr>\n",
              "  </tbody>\n",
              "</table>\n",
              "</div>\n",
              "      <button class=\"colab-df-convert\" onclick=\"convertToInteractive('df-2d6aad4a-e646-4587-aea8-cc18e3a87afb')\"\n",
              "              title=\"Convert this dataframe to an interactive table.\"\n",
              "              style=\"display:none;\">\n",
              "        \n",
              "  <svg xmlns=\"http://www.w3.org/2000/svg\" height=\"24px\"viewBox=\"0 0 24 24\"\n",
              "       width=\"24px\">\n",
              "    <path d=\"M0 0h24v24H0V0z\" fill=\"none\"/>\n",
              "    <path d=\"M18.56 5.44l.94 2.06.94-2.06 2.06-.94-2.06-.94-.94-2.06-.94 2.06-2.06.94zm-11 1L8.5 8.5l.94-2.06 2.06-.94-2.06-.94L8.5 2.5l-.94 2.06-2.06.94zm10 10l.94 2.06.94-2.06 2.06-.94-2.06-.94-.94-2.06-.94 2.06-2.06.94z\"/><path d=\"M17.41 7.96l-1.37-1.37c-.4-.4-.92-.59-1.43-.59-.52 0-1.04.2-1.43.59L10.3 9.45l-7.72 7.72c-.78.78-.78 2.05 0 2.83L4 21.41c.39.39.9.59 1.41.59.51 0 1.02-.2 1.41-.59l7.78-7.78 2.81-2.81c.8-.78.8-2.07 0-2.86zM5.41 20L4 18.59l7.72-7.72 1.47 1.35L5.41 20z\"/>\n",
              "  </svg>\n",
              "      </button>\n",
              "      \n",
              "  <style>\n",
              "    .colab-df-container {\n",
              "      display:flex;\n",
              "      flex-wrap:wrap;\n",
              "      gap: 12px;\n",
              "    }\n",
              "\n",
              "    .colab-df-convert {\n",
              "      background-color: #E8F0FE;\n",
              "      border: none;\n",
              "      border-radius: 50%;\n",
              "      cursor: pointer;\n",
              "      display: none;\n",
              "      fill: #1967D2;\n",
              "      height: 32px;\n",
              "      padding: 0 0 0 0;\n",
              "      width: 32px;\n",
              "    }\n",
              "\n",
              "    .colab-df-convert:hover {\n",
              "      background-color: #E2EBFA;\n",
              "      box-shadow: 0px 1px 2px rgba(60, 64, 67, 0.3), 0px 1px 3px 1px rgba(60, 64, 67, 0.15);\n",
              "      fill: #174EA6;\n",
              "    }\n",
              "\n",
              "    [theme=dark] .colab-df-convert {\n",
              "      background-color: #3B4455;\n",
              "      fill: #D2E3FC;\n",
              "    }\n",
              "\n",
              "    [theme=dark] .colab-df-convert:hover {\n",
              "      background-color: #434B5C;\n",
              "      box-shadow: 0px 1px 3px 1px rgba(0, 0, 0, 0.15);\n",
              "      filter: drop-shadow(0px 1px 2px rgba(0, 0, 0, 0.3));\n",
              "      fill: #FFFFFF;\n",
              "    }\n",
              "  </style>\n",
              "\n",
              "      <script>\n",
              "        const buttonEl =\n",
              "          document.querySelector('#df-2d6aad4a-e646-4587-aea8-cc18e3a87afb button.colab-df-convert');\n",
              "        buttonEl.style.display =\n",
              "          google.colab.kernel.accessAllowed ? 'block' : 'none';\n",
              "\n",
              "        async function convertToInteractive(key) {\n",
              "          const element = document.querySelector('#df-2d6aad4a-e646-4587-aea8-cc18e3a87afb');\n",
              "          const dataTable =\n",
              "            await google.colab.kernel.invokeFunction('convertToInteractive',\n",
              "                                                     [key], {});\n",
              "          if (!dataTable) return;\n",
              "\n",
              "          const docLinkHtml = 'Like what you see? Visit the ' +\n",
              "            '<a target=\"_blank\" href=https://colab.research.google.com/notebooks/data_table.ipynb>data table notebook</a>'\n",
              "            + ' to learn more about interactive tables.';\n",
              "          element.innerHTML = '';\n",
              "          dataTable['output_type'] = 'display_data';\n",
              "          await google.colab.output.renderOutput(dataTable, element);\n",
              "          const docLink = document.createElement('div');\n",
              "          docLink.innerHTML = docLinkHtml;\n",
              "          element.appendChild(docLink);\n",
              "        }\n",
              "      </script>\n",
              "    </div>\n",
              "  </div>\n",
              "  "
            ]
          },
          "metadata": {},
          "execution_count": 19
        }
      ]
    },
    {
      "cell_type": "code",
      "metadata": {
        "colab": {
          "base_uri": "https://localhost:8080/"
        },
        "id": "PYBNIC8EBN7k",
        "outputId": "50991d6e-e4b4-40fc-eab3-f8f48d812b6e"
      },
      "source": [
        "freqwords_array = []\n",
        "for i in tqdm(range(nws.shape[0])):\n",
        "    tfs = tfres.toarray()[i]\n",
        "    freqwords_array.append(tfs)\n",
        "\n",
        "nws['Freq Words TFIDF Array'] = freqwords_array"
      ],
      "execution_count": null,
      "outputs": [
        {
          "output_type": "stream",
          "name": "stderr",
          "text": [
            "100%|██████████| 26/26 [00:00<00:00, 22924.51it/s]\n"
          ]
        }
      ]
    },
    {
      "cell_type": "code",
      "metadata": {
        "colab": {
          "base_uri": "https://localhost:8080/",
          "height": 635
        },
        "id": "d7a9XyQhG2fj",
        "outputId": "7d9cfa24-0c5a-4cd5-9acb-325f234d6562"
      },
      "source": [
        "nws.head()"
      ],
      "execution_count": null,
      "outputs": [
        {
          "output_type": "execute_result",
          "data": {
            "text/plain": [
              "                                              Titles  \\\n",
              "0  В Рязанской области простились с тремя военнос...   \n",
              "1  В Александро-Невском в ДТП попал 15-летний мот...   \n",
              "2  Центральный банк России снизил ключевую ставку...   \n",
              "3  В Рязани у ЖК «Чайка» в ДТП попал велосипедист...   \n",
              "4  McDonald’s выбирает новое название для рестора...   \n",
              "\n",
              "                                                News  \\\n",
              "0  В Рязанской области простились с тремя военнос...   \n",
              "1  В Александро-Невском в ДТП попал 15-летний мот...   \n",
              "2  Центральный банк России снизил ключевую ставку...   \n",
              "3  В Рязани у ЖК «Чайка» в ДТП попал велосипедист...   \n",
              "4  McDonald’s выбирает новое название для рестора...   \n",
              "\n",
              "                                           Vocabular  \\\n",
              "0  {'рязанский': 5, 'область': 1, 'проститься': 2...   \n",
              "1  {'александро-невский': 2, 'дтп': 1, 'попасть':...   \n",
              "2  {'центральный': 1, 'банк': 1, 'россия': 1, 'сн...   \n",
              "3  {'рязань': 1, 'чайка': 1, 'дтп': 1, 'попасть':...   \n",
              "4  {'выбирать': 1, 'новый': 2, 'название': 2, 'ре...   \n",
              "\n",
              "                                          Freq Words  \\\n",
              "0  [рязанский, гвардия, гвардия старший, простить...   \n",
              "1  [мотоцикл, александро-невский, водитель, мотоц...   \n",
              "2  [ключевой, ключевой ставка, сайт, ставка, апрель]   \n",
              "3  [велосипедист, попасть, авария, авария попасть...   \n",
              "4     [заявка, бренд, известный, источник, название]   \n",
              "\n",
              "                                    Freq Words TFIDF  \\\n",
              "0      [украина, рязань, рязанский, район, погибший]   \n",
              "1  [водитель, отмечаться, попасть, улица, врезаться]   \n",
              "2  [ключевой, информация, появиться, вступить, сила]   \n",
              "3       [попасть, вконтакте, врезаться, дтп, авария]   \n",
              "4           [подать, бренд, новый, россия, ресторан]   \n",
              "\n",
              "                              Freq Words TFIDF Array  \n",
              "0  [0.05469956969698088, 0.05469956969698088, 0.0...  \n",
              "1  [0.05137310046150602, 0.05137310046150602, 0.0...  \n",
              "2  [0.050519561207273724, 0.050519561207273724, 0...  \n",
              "3  [0.09100259028740436, 0.09100259028740436, 0.0...  \n",
              "4  [0.05263257070616738, 0.05263257070616738, 0.0...  "
            ],
            "text/html": [
              "\n",
              "  <div id=\"df-36049147-061e-4cbb-9eb4-b71857cb2bd6\">\n",
              "    <div class=\"colab-df-container\">\n",
              "      <div>\n",
              "<style scoped>\n",
              "    .dataframe tbody tr th:only-of-type {\n",
              "        vertical-align: middle;\n",
              "    }\n",
              "\n",
              "    .dataframe tbody tr th {\n",
              "        vertical-align: top;\n",
              "    }\n",
              "\n",
              "    .dataframe thead th {\n",
              "        text-align: right;\n",
              "    }\n",
              "</style>\n",
              "<table border=\"1\" class=\"dataframe\">\n",
              "  <thead>\n",
              "    <tr style=\"text-align: right;\">\n",
              "      <th></th>\n",
              "      <th>Titles</th>\n",
              "      <th>News</th>\n",
              "      <th>Vocabular</th>\n",
              "      <th>Freq Words</th>\n",
              "      <th>Freq Words TFIDF</th>\n",
              "      <th>Freq Words TFIDF Array</th>\n",
              "    </tr>\n",
              "  </thead>\n",
              "  <tbody>\n",
              "    <tr>\n",
              "      <th>0</th>\n",
              "      <td>В Рязанской области простились с тремя военнос...</td>\n",
              "      <td>В Рязанской области простились с тремя военнос...</td>\n",
              "      <td>{'рязанский': 5, 'область': 1, 'проститься': 2...</td>\n",
              "      <td>[рязанский, гвардия, гвардия старший, простить...</td>\n",
              "      <td>[украина, рязань, рязанский, район, погибший]</td>\n",
              "      <td>[0.05469956969698088, 0.05469956969698088, 0.0...</td>\n",
              "    </tr>\n",
              "    <tr>\n",
              "      <th>1</th>\n",
              "      <td>В Александро-Невском в ДТП попал 15-летний мот...</td>\n",
              "      <td>В Александро-Невском в ДТП попал 15-летний мот...</td>\n",
              "      <td>{'александро-невский': 2, 'дтп': 1, 'попасть':...</td>\n",
              "      <td>[мотоцикл, александро-невский, водитель, мотоц...</td>\n",
              "      <td>[водитель, отмечаться, попасть, улица, врезаться]</td>\n",
              "      <td>[0.05137310046150602, 0.05137310046150602, 0.0...</td>\n",
              "    </tr>\n",
              "    <tr>\n",
              "      <th>2</th>\n",
              "      <td>Центральный банк России снизил ключевую ставку...</td>\n",
              "      <td>Центральный банк России снизил ключевую ставку...</td>\n",
              "      <td>{'центральный': 1, 'банк': 1, 'россия': 1, 'сн...</td>\n",
              "      <td>[ключевой, ключевой ставка, сайт, ставка, апрель]</td>\n",
              "      <td>[ключевой, информация, появиться, вступить, сила]</td>\n",
              "      <td>[0.050519561207273724, 0.050519561207273724, 0...</td>\n",
              "    </tr>\n",
              "    <tr>\n",
              "      <th>3</th>\n",
              "      <td>В Рязани у ЖК «Чайка» в ДТП попал велосипедист...</td>\n",
              "      <td>В Рязани у ЖК «Чайка» в ДТП попал велосипедист...</td>\n",
              "      <td>{'рязань': 1, 'чайка': 1, 'дтп': 1, 'попасть':...</td>\n",
              "      <td>[велосипедист, попасть, авария, авария попасть...</td>\n",
              "      <td>[попасть, вконтакте, врезаться, дтп, авария]</td>\n",
              "      <td>[0.09100259028740436, 0.09100259028740436, 0.0...</td>\n",
              "    </tr>\n",
              "    <tr>\n",
              "      <th>4</th>\n",
              "      <td>McDonald’s выбирает новое название для рестора...</td>\n",
              "      <td>McDonald’s выбирает новое название для рестора...</td>\n",
              "      <td>{'выбирать': 1, 'новый': 2, 'название': 2, 'ре...</td>\n",
              "      <td>[заявка, бренд, известный, источник, название]</td>\n",
              "      <td>[подать, бренд, новый, россия, ресторан]</td>\n",
              "      <td>[0.05263257070616738, 0.05263257070616738, 0.0...</td>\n",
              "    </tr>\n",
              "  </tbody>\n",
              "</table>\n",
              "</div>\n",
              "      <button class=\"colab-df-convert\" onclick=\"convertToInteractive('df-36049147-061e-4cbb-9eb4-b71857cb2bd6')\"\n",
              "              title=\"Convert this dataframe to an interactive table.\"\n",
              "              style=\"display:none;\">\n",
              "        \n",
              "  <svg xmlns=\"http://www.w3.org/2000/svg\" height=\"24px\"viewBox=\"0 0 24 24\"\n",
              "       width=\"24px\">\n",
              "    <path d=\"M0 0h24v24H0V0z\" fill=\"none\"/>\n",
              "    <path d=\"M18.56 5.44l.94 2.06.94-2.06 2.06-.94-2.06-.94-.94-2.06-.94 2.06-2.06.94zm-11 1L8.5 8.5l.94-2.06 2.06-.94-2.06-.94L8.5 2.5l-.94 2.06-2.06.94zm10 10l.94 2.06.94-2.06 2.06-.94-2.06-.94-.94-2.06-.94 2.06-2.06.94z\"/><path d=\"M17.41 7.96l-1.37-1.37c-.4-.4-.92-.59-1.43-.59-.52 0-1.04.2-1.43.59L10.3 9.45l-7.72 7.72c-.78.78-.78 2.05 0 2.83L4 21.41c.39.39.9.59 1.41.59.51 0 1.02-.2 1.41-.59l7.78-7.78 2.81-2.81c.8-.78.8-2.07 0-2.86zM5.41 20L4 18.59l7.72-7.72 1.47 1.35L5.41 20z\"/>\n",
              "  </svg>\n",
              "      </button>\n",
              "      \n",
              "  <style>\n",
              "    .colab-df-container {\n",
              "      display:flex;\n",
              "      flex-wrap:wrap;\n",
              "      gap: 12px;\n",
              "    }\n",
              "\n",
              "    .colab-df-convert {\n",
              "      background-color: #E8F0FE;\n",
              "      border: none;\n",
              "      border-radius: 50%;\n",
              "      cursor: pointer;\n",
              "      display: none;\n",
              "      fill: #1967D2;\n",
              "      height: 32px;\n",
              "      padding: 0 0 0 0;\n",
              "      width: 32px;\n",
              "    }\n",
              "\n",
              "    .colab-df-convert:hover {\n",
              "      background-color: #E2EBFA;\n",
              "      box-shadow: 0px 1px 2px rgba(60, 64, 67, 0.3), 0px 1px 3px 1px rgba(60, 64, 67, 0.15);\n",
              "      fill: #174EA6;\n",
              "    }\n",
              "\n",
              "    [theme=dark] .colab-df-convert {\n",
              "      background-color: #3B4455;\n",
              "      fill: #D2E3FC;\n",
              "    }\n",
              "\n",
              "    [theme=dark] .colab-df-convert:hover {\n",
              "      background-color: #434B5C;\n",
              "      box-shadow: 0px 1px 3px 1px rgba(0, 0, 0, 0.15);\n",
              "      filter: drop-shadow(0px 1px 2px rgba(0, 0, 0, 0.3));\n",
              "      fill: #FFFFFF;\n",
              "    }\n",
              "  </style>\n",
              "\n",
              "      <script>\n",
              "        const buttonEl =\n",
              "          document.querySelector('#df-36049147-061e-4cbb-9eb4-b71857cb2bd6 button.colab-df-convert');\n",
              "        buttonEl.style.display =\n",
              "          google.colab.kernel.accessAllowed ? 'block' : 'none';\n",
              "\n",
              "        async function convertToInteractive(key) {\n",
              "          const element = document.querySelector('#df-36049147-061e-4cbb-9eb4-b71857cb2bd6');\n",
              "          const dataTable =\n",
              "            await google.colab.kernel.invokeFunction('convertToInteractive',\n",
              "                                                     [key], {});\n",
              "          if (!dataTable) return;\n",
              "\n",
              "          const docLinkHtml = 'Like what you see? Visit the ' +\n",
              "            '<a target=\"_blank\" href=https://colab.research.google.com/notebooks/data_table.ipynb>data table notebook</a>'\n",
              "            + ' to learn more about interactive tables.';\n",
              "          element.innerHTML = '';\n",
              "          dataTable['output_type'] = 'display_data';\n",
              "          await google.colab.output.renderOutput(dataTable, element);\n",
              "          const docLink = document.createElement('div');\n",
              "          docLink.innerHTML = docLinkHtml;\n",
              "          element.appendChild(docLink);\n",
              "        }\n",
              "      </script>\n",
              "    </div>\n",
              "  </div>\n",
              "  "
            ]
          },
          "metadata": {},
          "execution_count": 21
        }
      ]
    },
    {
      "cell_type": "code",
      "source": [
        "freqwords_array"
      ],
      "metadata": {
        "id": "CivQdyochekG"
      },
      "execution_count": null,
      "outputs": []
    },
    {
      "cell_type": "code",
      "metadata": {
        "id": "BY40NRycKBL6"
      },
      "source": [
        "from scipy.spatial.distance import pdist\n",
        "from scipy.cluster.hierarchy import *\n",
        "from matplotlib import pyplot as plt\n",
        "from matplotlib import rc\n",
        "import numpy as np\n",
        "from sklearn.cluster import KMeans\n",
        "%matplotlib inline"
      ],
      "execution_count": null,
      "outputs": []
    },
    {
      "cell_type": "code",
      "metadata": {
        "id": "JDqBHSHLJccP"
      },
      "source": [
        "df = pd.DataFrame(nws['Freq Words TFIDF Array'].values.tolist(), index=nws['Freq Words TFIDF Array'].index)"
      ],
      "execution_count": null,
      "outputs": []
    },
    {
      "cell_type": "code",
      "metadata": {
        "id": "0Xlofm7B5kyC"
      },
      "source": [
        "data_dist = pdist(df, 'euclidean')\n",
        "data_linkage = linkage(data_dist, method='average')"
      ],
      "execution_count": null,
      "outputs": []
    },
    {
      "cell_type": "code",
      "metadata": {
        "colab": {
          "base_uri": "https://localhost:8080/",
          "height": 215
        },
        "id": "yX44brodKVxO",
        "outputId": "56c24bde-4fc1-4acd-bea7-d9df48ce080f"
      },
      "source": [
        "last = data_linkage[-10:, 2]\n",
        "last_rev = last[::-1]\n",
        "idxs = np.arange(1, len(last) + 1)\n",
        "plt.plot(idxs, last_rev)\n",
        "\n",
        "acceleration = np.diff(last, 2)  \n",
        "acceleration_rev = acceleration[::-1]\n",
        "plt.plot(idxs[:-2] + 1, acceleration_rev)\n",
        "plt.show()\n",
        "k = acceleration_rev.argmax() + 2 \n",
        "print(\"Количество кластеров:\", k)"
      ],
      "execution_count": null,
      "outputs": [
        {
          "output_type": "display_data",
          "data": {
            "text/plain": [
              "<Figure size 432x288 with 1 Axes>"
            ],
            "image/png": "[encoded data removed]"
          },
          "metadata": {
            "needs_background": "light"
          }
        },
        {
          "output_type": "stream",
          "name": "stdout",
          "text": [
            "Количество кластеров: 8\n"
          ]
        }
      ]
    },
    {
      "cell_type": "code",
      "metadata": {
        "id": "PcS3hLUKAqyL"
      },
      "source": [
        "kmeans_rec=KMeans(n_clusters=8)\n",
        "clusters_rec = kmeans_rec.fit_predict(df)\n",
        "kmeans_rec=KMeans(n_clusters=14)\n",
        "clusters_rnd = kmeans_rec.fit_predict(df)"
      ],
      "execution_count": null,
      "outputs": []
    },
    {
      "cell_type": "code",
      "metadata": {
        "id": "wnfIlDdPSR5v"
      },
      "source": [
        "from scipy.special import comb\n",
        "def rand_index_score(clusters, classes):\n",
        "    tp_plus_fp = comb(np.bincount(clusters), 2).sum()\n",
        "    tp_plus_fn = comb(np.bincount(classes), 2).sum()\n",
        "    A = np.c_[(clusters, classes)]\n",
        "    tp = sum(comb(np.bincount(A[A[:, 0] == i, 1]), 2).sum()\n",
        "             for i in set(clusters))\n",
        "    fp = tp_plus_fp - tp\n",
        "    fn = tp_plus_fn - tp\n",
        "    tn = comb(len(A), 2) - tp - fp - fn\n",
        "    return (tp + tn) / (tp + fp + fn + tn)"
      ],
      "execution_count": null,
      "outputs": []
    },
    {
      "cell_type": "code",
      "metadata": {
        "colab": {
          "base_uri": "https://localhost:8080/"
        },
        "id": "nDGTHrZFSZv_",
        "outputId": "3b4910ba-c046-4d08-f869-70469e6ecdda"
      },
      "source": [
        "print(rand_index_score (clusters_rec, clusters_rnd))"
      ],
      "execution_count": null,
      "outputs": [
        {
          "output_type": "stream",
          "name": "stdout",
          "text": [
            "0.9323076923076923\n"
          ]
        }
      ]
    },
    {
      "cell_type": "code",
      "metadata": {
        "colab": {
          "base_uri": "https://localhost:8080/"
        },
        "id": "iKDi11KdA09G",
        "outputId": "2dd3f808-f4cc-496c-e81b-2afe0fe56738"
      },
      "source": [
        "clusters_rec +1"
      ],
      "execution_count": null,
      "outputs": [
        {
          "output_type": "execute_result",
          "data": {
            "text/plain": [
              "array([7, 3, 6, 3, 1, 7, 1, 1, 7, 6, 7, 4, 7, 4, 2, 3, 4, 5, 2, 2, 8, 8,\n",
              "       5, 2, 6, 8], dtype=int32)"
            ]
          },
          "metadata": {},
          "execution_count": 29
        }
      ]
    },
    {
      "cell_type": "code",
      "metadata": {
        "id": "6toY76NVBslW"
      },
      "source": [
        "nws['KMeans Cluster'] = clusters_rec +1"
      ],
      "execution_count": null,
      "outputs": []
    },
    {
      "cell_type": "code",
      "metadata": {
        "colab": {
          "base_uri": "https://localhost:8080/",
          "height": 534
        },
        "id": "ASfQuEqeS9nd",
        "outputId": "6a9a71d4-f9e8-47da-c59e-f72826cbb4e3"
      },
      "source": [
        "nws[clusters_rec == 1]"
      ],
      "execution_count": null,
      "outputs": [
        {
          "output_type": "execute_result",
          "data": {
            "text/plain": [
              "                                               Titles  \\\n",
              "14  Суд признал законным увольнение росгвардейцев ...   \n",
              "18  Жителя Михайловского района осудят за незаконн...   \n",
              "19  На «Азовстали» задержали спрятавшихся украинск...   \n",
              "23  В ООН назвали возможной перспективу ядерного к...   \n",
              "\n",
              "                                                 News  \\\n",
              "14  Суд признал законным увольнение росгвардейцев ...   \n",
              "18  Жителя Михайловского района осудят за незаконн...   \n",
              "19  На «Азовстали» задержали спрятавшихся украинск...   \n",
              "23  В ООН назвали возможной перспективу ядерного к...   \n",
              "\n",
              "                                            Vocabular  \\\n",
              "14  {'суд': 5, 'признать': 1, 'законный': 2, 'увол...   \n",
              "18  {'житель': 2, 'михайловский': 2, 'район': 1, '...   \n",
              "19  {'азовсталь': 2, 'задержать': 2, 'спрятаться':...   \n",
              "23  {'оон': 2, 'назвать': 1, 'возможный': 2, 'перс...   \n",
              "\n",
              "                                           Freq Words  \\\n",
              "14              [суд, военный, бывший, законный, иск]   \n",
              "18         [мужчина, оружие, патрон, сбыт, боеприпас]   \n",
              "19    [территория, азовсталь, глава, задержать, мочь]   \n",
              "23  [возможный, конфликт, оон, перспектива, перспе...   \n",
              "\n",
              "                                    Freq Words TFIDF  \\\n",
              "14      [суд, служба, военный, спецоперация, бывший]   \n",
              "18        [оружие, мужчина, житель, знакомый, товар]   \n",
              "19  [территория, задержать, мочь, глава, республика]   \n",
              "23        [украина, дирекция, вода, сделать, житель]   \n",
              "\n",
              "                               Freq Words TFIDF Array  KMeans Cluster  \n",
              "14  [0.03437150041095961, 0.03437150041095961, 0.0...               2  \n",
              "18  [0.04538192131014137, 0.04538192131014137, 0.0...               2  \n",
              "19  [0.043858340882003986, 0.043858340882003986, 0...               2  \n",
              "23  [0.08313529575432128, 0.08313529575432128, 0.0...               2  "
            ],
            "text/html": [
              "\n",
              "  <div id=\"df-aae4286a-6d68-476e-ba19-66da0b682db8\">\n",
              "    <div class=\"colab-df-container\">\n",
              "      <div>\n",
              "<style scoped>\n",
              "    .dataframe tbody tr th:only-of-type {\n",
              "        vertical-align: middle;\n",
              "    }\n",
              "\n",
              "    .dataframe tbody tr th {\n",
              "        vertical-align: top;\n",
              "    }\n",
              "\n",
              "    .dataframe thead th {\n",
              "        text-align: right;\n",
              "    }\n",
              "</style>\n",
              "<table border=\"1\" class=\"dataframe\">\n",
              "  <thead>\n",
              "    <tr style=\"text-align: right;\">\n",
              "      <th></th>\n",
              "      <th>Titles</th>\n",
              "      <th>News</th>\n",
              "      <th>Vocabular</th>\n",
              "      <th>Freq Words</th>\n",
              "      <th>Freq Words TFIDF</th>\n",
              "      <th>Freq Words TFIDF Array</th>\n",
              "      <th>KMeans Cluster</th>\n",
              "    </tr>\n",
              "  </thead>\n",
              "  <tbody>\n",
              "    <tr>\n",
              "      <th>14</th>\n",
              "      <td>Суд признал законным увольнение росгвардейцев ...</td>\n",
              "      <td>Суд признал законным увольнение росгвардейцев ...</td>\n",
              "      <td>{'суд': 5, 'признать': 1, 'законный': 2, 'увол...</td>\n",
              "      <td>[суд, военный, бывший, законный, иск]</td>\n",
              "      <td>[суд, служба, военный, спецоперация, бывший]</td>\n",
              "      <td>[0.03437150041095961, 0.03437150041095961, 0.0...</td>\n",
              "      <td>2</td>\n",
              "    </tr>\n",
              "    <tr>\n",
              "      <th>18</th>\n",
              "      <td>Жителя Михайловского района осудят за незаконн...</td>\n",
              "      <td>Жителя Михайловского района осудят за незаконн...</td>\n",
              "      <td>{'житель': 2, 'михайловский': 2, 'район': 1, '...</td>\n",
              "      <td>[мужчина, оружие, патрон, сбыт, боеприпас]</td>\n",
              "      <td>[оружие, мужчина, житель, знакомый, товар]</td>\n",
              "      <td>[0.04538192131014137, 0.04538192131014137, 0.0...</td>\n",
              "      <td>2</td>\n",
              "    </tr>\n",
              "    <tr>\n",
              "      <th>19</th>\n",
              "      <td>На «Азовстали» задержали спрятавшихся украинск...</td>\n",
              "      <td>На «Азовстали» задержали спрятавшихся украинск...</td>\n",
              "      <td>{'азовсталь': 2, 'задержать': 2, 'спрятаться':...</td>\n",
              "      <td>[территория, азовсталь, глава, задержать, мочь]</td>\n",
              "      <td>[территория, задержать, мочь, глава, республика]</td>\n",
              "      <td>[0.043858340882003986, 0.043858340882003986, 0...</td>\n",
              "      <td>2</td>\n",
              "    </tr>\n",
              "    <tr>\n",
              "      <th>23</th>\n",
              "      <td>В ООН назвали возможной перспективу ядерного к...</td>\n",
              "      <td>В ООН назвали возможной перспективу ядерного к...</td>\n",
              "      <td>{'оон': 2, 'назвать': 1, 'возможный': 2, 'перс...</td>\n",
              "      <td>[возможный, конфликт, оон, перспектива, перспе...</td>\n",
              "      <td>[украина, дирекция, вода, сделать, житель]</td>\n",
              "      <td>[0.08313529575432128, 0.08313529575432128, 0.0...</td>\n",
              "      <td>2</td>\n",
              "    </tr>\n",
              "  </tbody>\n",
              "</table>\n",
              "</div>\n",
              "      <button class=\"colab-df-convert\" onclick=\"convertToInteractive('df-aae4286a-6d68-476e-ba19-66da0b682db8')\"\n",
              "              title=\"Convert this dataframe to an interactive table.\"\n",
              "              style=\"display:none;\">\n",
              "        \n",
              "  <svg xmlns=\"http://www.w3.org/2000/svg\" height=\"24px\"viewBox=\"0 0 24 24\"\n",
              "       width=\"24px\">\n",
              "    <path d=\"M0 0h24v24H0V0z\" fill=\"none\"/>\n",
              "    <path d=\"M18.56 5.44l.94 2.06.94-2.06 2.06-.94-2.06-.94-.94-2.06-.94 2.06-2.06.94zm-11 1L8.5 8.5l.94-2.06 2.06-.94-2.06-.94L8.5 2.5l-.94 2.06-2.06.94zm10 10l.94 2.06.94-2.06 2.06-.94-2.06-.94-.94-2.06-.94 2.06-2.06.94z\"/><path d=\"M17.41 7.96l-1.37-1.37c-.4-.4-.92-.59-1.43-.59-.52 0-1.04.2-1.43.59L10.3 9.45l-7.72 7.72c-.78.78-.78 2.05 0 2.83L4 21.41c.39.39.9.59 1.41.59.51 0 1.02-.2 1.41-.59l7.78-7.78 2.81-2.81c.8-.78.8-2.07 0-2.86zM5.41 20L4 18.59l7.72-7.72 1.47 1.35L5.41 20z\"/>\n",
              "  </svg>\n",
              "      </button>\n",
              "      \n",
              "  <style>\n",
              "    .colab-df-container {\n",
              "      display:flex;\n",
              "      flex-wrap:wrap;\n",
              "      gap: 12px;\n",
              "    }\n",
              "\n",
              "    .colab-df-convert {\n",
              "      background-color: #E8F0FE;\n",
              "      border: none;\n",
              "      border-radius: 50%;\n",
              "      cursor: pointer;\n",
              "      display: none;\n",
              "      fill: #1967D2;\n",
              "      height: 32px;\n",
              "      padding: 0 0 0 0;\n",
              "      width: 32px;\n",
              "    }\n",
              "\n",
              "    .colab-df-convert:hover {\n",
              "      background-color: #E2EBFA;\n",
              "      box-shadow: 0px 1px 2px rgba(60, 64, 67, 0.3), 0px 1px 3px 1px rgba(60, 64, 67, 0.15);\n",
              "      fill: #174EA6;\n",
              "    }\n",
              "\n",
              "    [theme=dark] .colab-df-convert {\n",
              "      background-color: #3B4455;\n",
              "      fill: #D2E3FC;\n",
              "    }\n",
              "\n",
              "    [theme=dark] .colab-df-convert:hover {\n",
              "      background-color: #434B5C;\n",
              "      box-shadow: 0px 1px 3px 1px rgba(0, 0, 0, 0.15);\n",
              "      filter: drop-shadow(0px 1px 2px rgba(0, 0, 0, 0.3));\n",
              "      fill: #FFFFFF;\n",
              "    }\n",
              "  </style>\n",
              "\n",
              "      <script>\n",
              "        const buttonEl =\n",
              "          document.querySelector('#df-aae4286a-6d68-476e-ba19-66da0b682db8 button.colab-df-convert');\n",
              "        buttonEl.style.display =\n",
              "          google.colab.kernel.accessAllowed ? 'block' : 'none';\n",
              "\n",
              "        async function convertToInteractive(key) {\n",
              "          const element = document.querySelector('#df-aae4286a-6d68-476e-ba19-66da0b682db8');\n",
              "          const dataTable =\n",
              "            await google.colab.kernel.invokeFunction('convertToInteractive',\n",
              "                                                     [key], {});\n",
              "          if (!dataTable) return;\n",
              "\n",
              "          const docLinkHtml = 'Like what you see? Visit the ' +\n",
              "            '<a target=\"_blank\" href=https://colab.research.google.com/notebooks/data_table.ipynb>data table notebook</a>'\n",
              "            + ' to learn more about interactive tables.';\n",
              "          element.innerHTML = '';\n",
              "          dataTable['output_type'] = 'display_data';\n",
              "          await google.colab.output.renderOutput(dataTable, element);\n",
              "          const docLink = document.createElement('div');\n",
              "          docLink.innerHTML = docLinkHtml;\n",
              "          element.appendChild(docLink);\n",
              "        }\n",
              "      </script>\n",
              "    </div>\n",
              "  </div>\n",
              "  "
            ]
          },
          "metadata": {},
          "execution_count": 31
        }
      ]
    },
    {
      "cell_type": "code",
      "metadata": {
        "colab": {
          "base_uri": "https://localhost:8080/",
          "height": 450
        },
        "id": "2KfVK2rvT-sI",
        "outputId": "0dba725f-6053-4faf-b43f-5c2601ca716c"
      },
      "source": [
        "nws[clusters_rec == 3]"
      ],
      "execution_count": null,
      "outputs": [
        {
          "output_type": "execute_result",
          "data": {
            "text/plain": [
              "                                               Titles  \\\n",
              "11  В Омской области 15-летний подросток утонул в ...   \n",
              "13  В Омской области семиклассник утонул в аквапар...   \n",
              "16  Рязанку оштрафовали за заросший сорняками сель...   \n",
              "\n",
              "                                                 News  \\\n",
              "11  В Омской области 15-летний подросток утонул в ...   \n",
              "13  В Омской области семиклассник утонул в аквапар...   \n",
              "16  Рязанку оштрафовали за заросший сорняками сель...   \n",
              "\n",
              "                                            Vocabular  \\\n",
              "11  {'омский': 1, 'область': 1, 'летний': 1, 'подр...   \n",
              "13  {'омский': 1, 'область': 1, 'семиклассник': 1,...   \n",
              "16  {'рязанка': 3, 'оштрафовать': 1, 'зарасти': 1,...   \n",
              "\n",
              "                                           Freq Words  \\\n",
              "11  [котлован, подросток, утонуть, азовый, азовый ...   \n",
              "13  [аквапарк, утонуть, аквапарк база, аквапарк со...   \n",
              "16  [административный, рязанка, управление, участо...   \n",
              "\n",
              "                                 Freq Words TFIDF  \\\n",
              "11   [утонуть, подросток, омский, инцидент, вода]   \n",
              "13   [утонуть, омский, следкома, инцидент, отдых]   \n",
              "16  [управление, проверка, статья, тысяча, часть]   \n",
              "\n",
              "                               Freq Words TFIDF Array  KMeans Cluster  \n",
              "11  [0.05270948703429625, 0.05270948703429625, 0.0...               4  \n",
              "13  [0.05779908486744024, 0.05779908486744024, 0.0...               4  \n",
              "16  [0.04327088002448726, 0.04327088002448726, 0.0...               4  "
            ],
            "text/html": [
              "\n",
              "  <div id=\"df-7dcd97ec-2267-4c4d-bb26-1b22cef7c2a9\">\n",
              "    <div class=\"colab-df-container\">\n",
              "      <div>\n",
              "<style scoped>\n",
              "    .dataframe tbody tr th:only-of-type {\n",
              "        vertical-align: middle;\n",
              "    }\n",
              "\n",
              "    .dataframe tbody tr th {\n",
              "        vertical-align: top;\n",
              "    }\n",
              "\n",
              "    .dataframe thead th {\n",
              "        text-align: right;\n",
              "    }\n",
              "</style>\n",
              "<table border=\"1\" class=\"dataframe\">\n",
              "  <thead>\n",
              "    <tr style=\"text-align: right;\">\n",
              "      <th></th>\n",
              "      <th>Titles</th>\n",
              "      <th>News</th>\n",
              "      <th>Vocabular</th>\n",
              "      <th>Freq Words</th>\n",
              "      <th>Freq Words TFIDF</th>\n",
              "      <th>Freq Words TFIDF Array</th>\n",
              "      <th>KMeans Cluster</th>\n",
              "    </tr>\n",
              "  </thead>\n",
              "  <tbody>\n",
              "    <tr>\n",
              "      <th>11</th>\n",
              "      <td>В Омской области 15-летний подросток утонул в ...</td>\n",
              "      <td>В Омской области 15-летний подросток утонул в ...</td>\n",
              "      <td>{'омский': 1, 'область': 1, 'летний': 1, 'подр...</td>\n",
              "      <td>[котлован, подросток, утонуть, азовый, азовый ...</td>\n",
              "      <td>[утонуть, подросток, омский, инцидент, вода]</td>\n",
              "      <td>[0.05270948703429625, 0.05270948703429625, 0.0...</td>\n",
              "      <td>4</td>\n",
              "    </tr>\n",
              "    <tr>\n",
              "      <th>13</th>\n",
              "      <td>В Омской области семиклассник утонул в аквапар...</td>\n",
              "      <td>В Омской области семиклассник утонул в аквапар...</td>\n",
              "      <td>{'омский': 1, 'область': 1, 'семиклассник': 1,...</td>\n",
              "      <td>[аквапарк, утонуть, аквапарк база, аквапарк со...</td>\n",
              "      <td>[утонуть, омский, следкома, инцидент, отдых]</td>\n",
              "      <td>[0.05779908486744024, 0.05779908486744024, 0.0...</td>\n",
              "      <td>4</td>\n",
              "    </tr>\n",
              "    <tr>\n",
              "      <th>16</th>\n",
              "      <td>Рязанку оштрафовали за заросший сорняками сель...</td>\n",
              "      <td>Рязанку оштрафовали за заросший сорняками сель...</td>\n",
              "      <td>{'рязанка': 3, 'оштрафовать': 1, 'зарасти': 1,...</td>\n",
              "      <td>[административный, рязанка, управление, участо...</td>\n",
              "      <td>[управление, проверка, статья, тысяча, часть]</td>\n",
              "      <td>[0.04327088002448726, 0.04327088002448726, 0.0...</td>\n",
              "      <td>4</td>\n",
              "    </tr>\n",
              "  </tbody>\n",
              "</table>\n",
              "</div>\n",
              "      <button class=\"colab-df-convert\" onclick=\"convertToInteractive('df-7dcd97ec-2267-4c4d-bb26-1b22cef7c2a9')\"\n",
              "              title=\"Convert this dataframe to an interactive table.\"\n",
              "              style=\"display:none;\">\n",
              "        \n",
              "  <svg xmlns=\"http://www.w3.org/2000/svg\" height=\"24px\"viewBox=\"0 0 24 24\"\n",
              "       width=\"24px\">\n",
              "    <path d=\"M0 0h24v24H0V0z\" fill=\"none\"/>\n",
              "    <path d=\"M18.56 5.44l.94 2.06.94-2.06 2.06-.94-2.06-.94-.94-2.06-.94 2.06-2.06.94zm-11 1L8.5 8.5l.94-2.06 2.06-.94-2.06-.94L8.5 2.5l-.94 2.06-2.06.94zm10 10l.94 2.06.94-2.06 2.06-.94-2.06-.94-.94-2.06-.94 2.06-2.06.94z\"/><path d=\"M17.41 7.96l-1.37-1.37c-.4-.4-.92-.59-1.43-.59-.52 0-1.04.2-1.43.59L10.3 9.45l-7.72 7.72c-.78.78-.78 2.05 0 2.83L4 21.41c.39.39.9.59 1.41.59.51 0 1.02-.2 1.41-.59l7.78-7.78 2.81-2.81c.8-.78.8-2.07 0-2.86zM5.41 20L4 18.59l7.72-7.72 1.47 1.35L5.41 20z\"/>\n",
              "  </svg>\n",
              "      </button>\n",
              "      \n",
              "  <style>\n",
              "    .colab-df-container {\n",
              "      display:flex;\n",
              "      flex-wrap:wrap;\n",
              "      gap: 12px;\n",
              "    }\n",
              "\n",
              "    .colab-df-convert {\n",
              "      background-color: #E8F0FE;\n",
              "      border: none;\n",
              "      border-radius: 50%;\n",
              "      cursor: pointer;\n",
              "      display: none;\n",
              "      fill: #1967D2;\n",
              "      height: 32px;\n",
              "      padding: 0 0 0 0;\n",
              "      width: 32px;\n",
              "    }\n",
              "\n",
              "    .colab-df-convert:hover {\n",
              "      background-color: #E2EBFA;\n",
              "      box-shadow: 0px 1px 2px rgba(60, 64, 67, 0.3), 0px 1px 3px 1px rgba(60, 64, 67, 0.15);\n",
              "      fill: #174EA6;\n",
              "    }\n",
              "\n",
              "    [theme=dark] .colab-df-convert {\n",
              "      background-color: #3B4455;\n",
              "      fill: #D2E3FC;\n",
              "    }\n",
              "\n",
              "    [theme=dark] .colab-df-convert:hover {\n",
              "      background-color: #434B5C;\n",
              "      box-shadow: 0px 1px 3px 1px rgba(0, 0, 0, 0.15);\n",
              "      filter: drop-shadow(0px 1px 2px rgba(0, 0, 0, 0.3));\n",
              "      fill: #FFFFFF;\n",
              "    }\n",
              "  </style>\n",
              "\n",
              "      <script>\n",
              "        const buttonEl =\n",
              "          document.querySelector('#df-7dcd97ec-2267-4c4d-bb26-1b22cef7c2a9 button.colab-df-convert');\n",
              "        buttonEl.style.display =\n",
              "          google.colab.kernel.accessAllowed ? 'block' : 'none';\n",
              "\n",
              "        async function convertToInteractive(key) {\n",
              "          const element = document.querySelector('#df-7dcd97ec-2267-4c4d-bb26-1b22cef7c2a9');\n",
              "          const dataTable =\n",
              "            await google.colab.kernel.invokeFunction('convertToInteractive',\n",
              "                                                     [key], {});\n",
              "          if (!dataTable) return;\n",
              "\n",
              "          const docLinkHtml = 'Like what you see? Visit the ' +\n",
              "            '<a target=\"_blank\" href=https://colab.research.google.com/notebooks/data_table.ipynb>data table notebook</a>'\n",
              "            + ' to learn more about interactive tables.';\n",
              "          element.innerHTML = '';\n",
              "          dataTable['output_type'] = 'display_data';\n",
              "          await google.colab.output.renderOutput(dataTable, element);\n",
              "          const docLink = document.createElement('div');\n",
              "          docLink.innerHTML = docLinkHtml;\n",
              "          element.appendChild(docLink);\n",
              "        }\n",
              "      </script>\n",
              "    </div>\n",
              "  </div>\n",
              "  "
            ]
          },
          "metadata": {},
          "execution_count": 32
        }
      ]
    },
    {
      "cell_type": "code",
      "source": [
        "nws[clusters_rec == 2]"
      ],
      "metadata": {
        "colab": {
          "base_uri": "https://localhost:8080/",
          "height": 257
        },
        "id": "2xxxuzKHYyc7",
        "outputId": "e83a3a84-35af-422e-f25b-30eee3e4110e"
      },
      "execution_count": null,
      "outputs": [
        {
          "output_type": "execute_result",
          "data": {
            "text/plain": [
              "                                               Titles  \\\n",
              "1   В Александро-Невском в ДТП попал 15-летний мот...   \n",
              "3   В Рязани у ЖК «Чайка» в ДТП попал велосипедист...   \n",
              "15  В Рязани на улице Спортивной столкнулись два к...   \n",
              "\n",
              "                                                 News  \\\n",
              "1   В Александро-Невском в ДТП попал 15-летний мот...   \n",
              "3   В Рязани у ЖК «Чайка» в ДТП попал велосипедист...   \n",
              "15  В Рязани на улице Спортивной столкнулись два к...   \n",
              "\n",
              "                                            Vocabular  \\\n",
              "1   {'александро-невский': 2, 'дтп': 1, 'попасть':...   \n",
              "3   {'рязань': 1, 'чайка': 1, 'дтп': 1, 'попасть':...   \n",
              "15  {'рязань': 2, 'улица': 2, 'спортивный': 2, 'ст...   \n",
              "\n",
              "                                           Freq Words  \\\n",
              "1   [мотоцикл, александро-невский, водитель, мотоц...   \n",
              "3   [велосипедист, попасть, авария, авария попасть...   \n",
              "15  [авария, очевидец, рязань, спортивный, столкну...   \n",
              "\n",
              "                                     Freq Words TFIDF  \\\n",
              "1   [водитель, отмечаться, попасть, улица, врезаться]   \n",
              "3        [попасть, вконтакте, врезаться, дтп, авария]   \n",
              "15               [авария, улица, рязань, группа, дтп]   \n",
              "\n",
              "                               Freq Words TFIDF Array  KMeans Cluster  \n",
              "1   [0.05137310046150602, 0.05137310046150602, 0.0...               3  \n",
              "3   [0.09100259028740436, 0.09100259028740436, 0.0...               3  \n",
              "15  [0.06595277618507994, 0.06595277618507994, 0.0...               3  "
            ],
            "text/html": [
              "\n",
              "  <div id=\"df-50b17c6c-a4d7-4ad8-bde5-a4e34659eab6\">\n",
              "    <div class=\"colab-df-container\">\n",
              "      <div>\n",
              "<style scoped>\n",
              "    .dataframe tbody tr th:only-of-type {\n",
              "        vertical-align: middle;\n",
              "    }\n",
              "\n",
              "    .dataframe tbody tr th {\n",
              "        vertical-align: top;\n",
              "    }\n",
              "\n",
              "    .dataframe thead th {\n",
              "        text-align: right;\n",
              "    }\n",
              "</style>\n",
              "<table border=\"1\" class=\"dataframe\">\n",
              "  <thead>\n",
              "    <tr style=\"text-align: right;\">\n",
              "      <th></th>\n",
              "      <th>Titles</th>\n",
              "      <th>News</th>\n",
              "      <th>Vocabular</th>\n",
              "      <th>Freq Words</th>\n",
              "      <th>Freq Words TFIDF</th>\n",
              "      <th>Freq Words TFIDF Array</th>\n",
              "      <th>KMeans Cluster</th>\n",
              "    </tr>\n",
              "  </thead>\n",
              "  <tbody>\n",
              "    <tr>\n",
              "      <th>1</th>\n",
              "      <td>В Александро-Невском в ДТП попал 15-летний мот...</td>\n",
              "      <td>В Александро-Невском в ДТП попал 15-летний мот...</td>\n",
              "      <td>{'александро-невский': 2, 'дтп': 1, 'попасть':...</td>\n",
              "      <td>[мотоцикл, александро-невский, водитель, мотоц...</td>\n",
              "      <td>[водитель, отмечаться, попасть, улица, врезаться]</td>\n",
              "      <td>[0.05137310046150602, 0.05137310046150602, 0.0...</td>\n",
              "      <td>3</td>\n",
              "    </tr>\n",
              "    <tr>\n",
              "      <th>3</th>\n",
              "      <td>В Рязани у ЖК «Чайка» в ДТП попал велосипедист...</td>\n",
              "      <td>В Рязани у ЖК «Чайка» в ДТП попал велосипедист...</td>\n",
              "      <td>{'рязань': 1, 'чайка': 1, 'дтп': 1, 'попасть':...</td>\n",
              "      <td>[велосипедист, попасть, авария, авария попасть...</td>\n",
              "      <td>[попасть, вконтакте, врезаться, дтп, авария]</td>\n",
              "      <td>[0.09100259028740436, 0.09100259028740436, 0.0...</td>\n",
              "      <td>3</td>\n",
              "    </tr>\n",
              "    <tr>\n",
              "      <th>15</th>\n",
              "      <td>В Рязани на улице Спортивной столкнулись два к...</td>\n",
              "      <td>В Рязани на улице Спортивной столкнулись два к...</td>\n",
              "      <td>{'рязань': 2, 'улица': 2, 'спортивный': 2, 'ст...</td>\n",
              "      <td>[авария, очевидец, рязань, спортивный, столкну...</td>\n",
              "      <td>[авария, улица, рязань, группа, дтп]</td>\n",
              "      <td>[0.06595277618507994, 0.06595277618507994, 0.0...</td>\n",
              "      <td>3</td>\n",
              "    </tr>\n",
              "  </tbody>\n",
              "</table>\n",
              "</div>\n",
              "      <button class=\"colab-df-convert\" onclick=\"convertToInteractive('df-50b17c6c-a4d7-4ad8-bde5-a4e34659eab6')\"\n",
              "              title=\"Convert this dataframe to an interactive table.\"\n",
              "              style=\"display:none;\">\n",
              "        \n",
              "  <svg xmlns=\"http://www.w3.org/2000/svg\" height=\"24px\"viewBox=\"0 0 24 24\"\n",
              "       width=\"24px\">\n",
              "    <path d=\"M0 0h24v24H0V0z\" fill=\"none\"/>\n",
              "    <path d=\"M18.56 5.44l.94 2.06.94-2.06 2.06-.94-2.06-.94-.94-2.06-.94 2.06-2.06.94zm-11 1L8.5 8.5l.94-2.06 2.06-.94-2.06-.94L8.5 2.5l-.94 2.06-2.06.94zm10 10l.94 2.06.94-2.06 2.06-.94-2.06-.94-.94-2.06-.94 2.06-2.06.94z\"/><path d=\"M17.41 7.96l-1.37-1.37c-.4-.4-.92-.59-1.43-.59-.52 0-1.04.2-1.43.59L10.3 9.45l-7.72 7.72c-.78.78-.78 2.05 0 2.83L4 21.41c.39.39.9.59 1.41.59.51 0 1.02-.2 1.41-.59l7.78-7.78 2.81-2.81c.8-.78.8-2.07 0-2.86zM5.41 20L4 18.59l7.72-7.72 1.47 1.35L5.41 20z\"/>\n",
              "  </svg>\n",
              "      </button>\n",
              "      \n",
              "  <style>\n",
              "    .colab-df-container {\n",
              "      display:flex;\n",
              "      flex-wrap:wrap;\n",
              "      gap: 12px;\n",
              "    }\n",
              "\n",
              "    .colab-df-convert {\n",
              "      background-color: #E8F0FE;\n",
              "      border: none;\n",
              "      border-radius: 50%;\n",
              "      cursor: pointer;\n",
              "      display: none;\n",
              "      fill: #1967D2;\n",
              "      height: 32px;\n",
              "      padding: 0 0 0 0;\n",
              "      width: 32px;\n",
              "    }\n",
              "\n",
              "    .colab-df-convert:hover {\n",
              "      background-color: #E2EBFA;\n",
              "      box-shadow: 0px 1px 2px rgba(60, 64, 67, 0.3), 0px 1px 3px 1px rgba(60, 64, 67, 0.15);\n",
              "      fill: #174EA6;\n",
              "    }\n",
              "\n",
              "    [theme=dark] .colab-df-convert {\n",
              "      background-color: #3B4455;\n",
              "      fill: #D2E3FC;\n",
              "    }\n",
              "\n",
              "    [theme=dark] .colab-df-convert:hover {\n",
              "      background-color: #434B5C;\n",
              "      box-shadow: 0px 1px 3px 1px rgba(0, 0, 0, 0.15);\n",
              "      filter: drop-shadow(0px 1px 2px rgba(0, 0, 0, 0.3));\n",
              "      fill: #FFFFFF;\n",
              "    }\n",
              "  </style>\n",
              "\n",
              "      <script>\n",
              "        const buttonEl =\n",
              "          document.querySelector('#df-50b17c6c-a4d7-4ad8-bde5-a4e34659eab6 button.colab-df-convert');\n",
              "        buttonEl.style.display =\n",
              "          google.colab.kernel.accessAllowed ? 'block' : 'none';\n",
              "\n",
              "        async function convertToInteractive(key) {\n",
              "          const element = document.querySelector('#df-50b17c6c-a4d7-4ad8-bde5-a4e34659eab6');\n",
              "          const dataTable =\n",
              "            await google.colab.kernel.invokeFunction('convertToInteractive',\n",
              "                                                     [key], {});\n",
              "          if (!dataTable) return;\n",
              "\n",
              "          const docLinkHtml = 'Like what you see? Visit the ' +\n",
              "            '<a target=\"_blank\" href=https://colab.research.google.com/notebooks/data_table.ipynb>data table notebook</a>'\n",
              "            + ' to learn more about interactive tables.';\n",
              "          element.innerHTML = '';\n",
              "          dataTable['output_type'] = 'display_data';\n",
              "          await google.colab.output.renderOutput(dataTable, element);\n",
              "          const docLink = document.createElement('div');\n",
              "          docLink.innerHTML = docLinkHtml;\n",
              "          element.appendChild(docLink);\n",
              "        }\n",
              "      </script>\n",
              "    </div>\n",
              "  </div>\n",
              "  "
            ]
          },
          "metadata": {},
          "execution_count": 46
        }
      ]
    },
    {
      "cell_type": "code",
      "metadata": {
        "colab": {
          "base_uri": "https://localhost:8080/",
          "height": 450
        },
        "id": "MTVnZLbWUluH",
        "outputId": "0e2c2f99-1873-470d-cdaf-09eb6032bbfd"
      },
      "source": [
        "nws[clusters_rec == 0]"
      ],
      "execution_count": null,
      "outputs": [
        {
          "output_type": "execute_result",
          "data": {
            "text/plain": [
              "                                              Titles  \\\n",
              "4  McDonald’s выбирает новое название для рестора...   \n",
              "6  Четверг — традиционный день киноновинок. Афиша...   \n",
              "7  Турецкие бренды одежды и товаров для дома план...   \n",
              "\n",
              "                                                News  \\\n",
              "4  McDonald’s выбирает новое название для рестора...   \n",
              "6  Четверг — традиционный день киноновинок. Афиша...   \n",
              "7  Турецкие бренды одежды и товаров для дома план...   \n",
              "\n",
              "                                           Vocabular  \\\n",
              "4  {'выбирать': 1, 'новый': 2, 'название': 2, 'ре...   \n",
              "6  {'четверг': 1, 'традиционный': 1, 'день': 1, '...   \n",
              "7  {'турецкий': 3, 'бренд': 2, 'одежда': 1, 'това...   \n",
              "\n",
              "                                       Freq Words  \\\n",
              "4  [заявка, бренд, известный, источник, название]   \n",
              "6      [фильм, сайт, главный, кинопоиск, который]   \n",
              "7      [компания, магазин, первый, россия, рынок]   \n",
              "\n",
              "                             Freq Words TFIDF  \\\n",
              "4    [подать, бренд, новый, россия, ресторан]   \n",
              "6      [который, российский, один, этот, мой]   \n",
              "7  [компания, первый, бренд, открытие, точка]   \n",
              "\n",
              "                              Freq Words TFIDF Array  KMeans Cluster  \n",
              "4  [0.05263257070616738, 0.05263257070616738, 0.0...               1  \n",
              "6  [0.024117232170435283, 0.024117232170435283, 0...               1  \n",
              "7  [0.03480870384005161, 0.03480870384005161, 0.0...               1  "
            ],
            "text/html": [
              "\n",
              "  <div id=\"df-414e9c26-67a7-416c-bc4a-a7ef233daca7\">\n",
              "    <div class=\"colab-df-container\">\n",
              "      <div>\n",
              "<style scoped>\n",
              "    .dataframe tbody tr th:only-of-type {\n",
              "        vertical-align: middle;\n",
              "    }\n",
              "\n",
              "    .dataframe tbody tr th {\n",
              "        vertical-align: top;\n",
              "    }\n",
              "\n",
              "    .dataframe thead th {\n",
              "        text-align: right;\n",
              "    }\n",
              "</style>\n",
              "<table border=\"1\" class=\"dataframe\">\n",
              "  <thead>\n",
              "    <tr style=\"text-align: right;\">\n",
              "      <th></th>\n",
              "      <th>Titles</th>\n",
              "      <th>News</th>\n",
              "      <th>Vocabular</th>\n",
              "      <th>Freq Words</th>\n",
              "      <th>Freq Words TFIDF</th>\n",
              "      <th>Freq Words TFIDF Array</th>\n",
              "      <th>KMeans Cluster</th>\n",
              "    </tr>\n",
              "  </thead>\n",
              "  <tbody>\n",
              "    <tr>\n",
              "      <th>4</th>\n",
              "      <td>McDonald’s выбирает новое название для рестора...</td>\n",
              "      <td>McDonald’s выбирает новое название для рестора...</td>\n",
              "      <td>{'выбирать': 1, 'новый': 2, 'название': 2, 'ре...</td>\n",
              "      <td>[заявка, бренд, известный, источник, название]</td>\n",
              "      <td>[подать, бренд, новый, россия, ресторан]</td>\n",
              "      <td>[0.05263257070616738, 0.05263257070616738, 0.0...</td>\n",
              "      <td>1</td>\n",
              "    </tr>\n",
              "    <tr>\n",
              "      <th>6</th>\n",
              "      <td>Четверг — традиционный день киноновинок. Афиша...</td>\n",
              "      <td>Четверг — традиционный день киноновинок. Афиша...</td>\n",
              "      <td>{'четверг': 1, 'традиционный': 1, 'день': 1, '...</td>\n",
              "      <td>[фильм, сайт, главный, кинопоиск, который]</td>\n",
              "      <td>[который, российский, один, этот, мой]</td>\n",
              "      <td>[0.024117232170435283, 0.024117232170435283, 0...</td>\n",
              "      <td>1</td>\n",
              "    </tr>\n",
              "    <tr>\n",
              "      <th>7</th>\n",
              "      <td>Турецкие бренды одежды и товаров для дома план...</td>\n",
              "      <td>Турецкие бренды одежды и товаров для дома план...</td>\n",
              "      <td>{'турецкий': 3, 'бренд': 2, 'одежда': 1, 'това...</td>\n",
              "      <td>[компания, магазин, первый, россия, рынок]</td>\n",
              "      <td>[компания, первый, бренд, открытие, точка]</td>\n",
              "      <td>[0.03480870384005161, 0.03480870384005161, 0.0...</td>\n",
              "      <td>1</td>\n",
              "    </tr>\n",
              "  </tbody>\n",
              "</table>\n",
              "</div>\n",
              "      <button class=\"colab-df-convert\" onclick=\"convertToInteractive('df-414e9c26-67a7-416c-bc4a-a7ef233daca7')\"\n",
              "              title=\"Convert this dataframe to an interactive table.\"\n",
              "              style=\"display:none;\">\n",
              "        \n",
              "  <svg xmlns=\"http://www.w3.org/2000/svg\" height=\"24px\"viewBox=\"0 0 24 24\"\n",
              "       width=\"24px\">\n",
              "    <path d=\"M0 0h24v24H0V0z\" fill=\"none\"/>\n",
              "    <path d=\"M18.56 5.44l.94 2.06.94-2.06 2.06-.94-2.06-.94-.94-2.06-.94 2.06-2.06.94zm-11 1L8.5 8.5l.94-2.06 2.06-.94-2.06-.94L8.5 2.5l-.94 2.06-2.06.94zm10 10l.94 2.06.94-2.06 2.06-.94-2.06-.94-.94-2.06-.94 2.06-2.06.94z\"/><path d=\"M17.41 7.96l-1.37-1.37c-.4-.4-.92-.59-1.43-.59-.52 0-1.04.2-1.43.59L10.3 9.45l-7.72 7.72c-.78.78-.78 2.05 0 2.83L4 21.41c.39.39.9.59 1.41.59.51 0 1.02-.2 1.41-.59l7.78-7.78 2.81-2.81c.8-.78.8-2.07 0-2.86zM5.41 20L4 18.59l7.72-7.72 1.47 1.35L5.41 20z\"/>\n",
              "  </svg>\n",
              "      </button>\n",
              "      \n",
              "  <style>\n",
              "    .colab-df-container {\n",
              "      display:flex;\n",
              "      flex-wrap:wrap;\n",
              "      gap: 12px;\n",
              "    }\n",
              "\n",
              "    .colab-df-convert {\n",
              "      background-color: #E8F0FE;\n",
              "      border: none;\n",
              "      border-radius: 50%;\n",
              "      cursor: pointer;\n",
              "      display: none;\n",
              "      fill: #1967D2;\n",
              "      height: 32px;\n",
              "      padding: 0 0 0 0;\n",
              "      width: 32px;\n",
              "    }\n",
              "\n",
              "    .colab-df-convert:hover {\n",
              "      background-color: #E2EBFA;\n",
              "      box-shadow: 0px 1px 2px rgba(60, 64, 67, 0.3), 0px 1px 3px 1px rgba(60, 64, 67, 0.15);\n",
              "      fill: #174EA6;\n",
              "    }\n",
              "\n",
              "    [theme=dark] .colab-df-convert {\n",
              "      background-color: #3B4455;\n",
              "      fill: #D2E3FC;\n",
              "    }\n",
              "\n",
              "    [theme=dark] .colab-df-convert:hover {\n",
              "      background-color: #434B5C;\n",
              "      box-shadow: 0px 1px 3px 1px rgba(0, 0, 0, 0.15);\n",
              "      filter: drop-shadow(0px 1px 2px rgba(0, 0, 0, 0.3));\n",
              "      fill: #FFFFFF;\n",
              "    }\n",
              "  </style>\n",
              "\n",
              "      <script>\n",
              "        const buttonEl =\n",
              "          document.querySelector('#df-414e9c26-67a7-416c-bc4a-a7ef233daca7 button.colab-df-convert');\n",
              "        buttonEl.style.display =\n",
              "          google.colab.kernel.accessAllowed ? 'block' : 'none';\n",
              "\n",
              "        async function convertToInteractive(key) {\n",
              "          const element = document.querySelector('#df-414e9c26-67a7-416c-bc4a-a7ef233daca7');\n",
              "          const dataTable =\n",
              "            await google.colab.kernel.invokeFunction('convertToInteractive',\n",
              "                                                     [key], {});\n",
              "          if (!dataTable) return;\n",
              "\n",
              "          const docLinkHtml = 'Like what you see? Visit the ' +\n",
              "            '<a target=\"_blank\" href=https://colab.research.google.com/notebooks/data_table.ipynb>data table notebook</a>'\n",
              "            + ' to learn more about interactive tables.';\n",
              "          element.innerHTML = '';\n",
              "          dataTable['output_type'] = 'display_data';\n",
              "          await google.colab.output.renderOutput(dataTable, element);\n",
              "          const docLink = document.createElement('div');\n",
              "          docLink.innerHTML = docLinkHtml;\n",
              "          element.appendChild(docLink);\n",
              "        }\n",
              "      </script>\n",
              "    </div>\n",
              "  </div>\n",
              "  "
            ]
          },
          "metadata": {},
          "execution_count": 33
        }
      ]
    },
    {
      "cell_type": "code",
      "metadata": {
        "id": "MkqDqKsi55yc"
      },
      "source": [
        "from sklearn.neighbors import KNeighborsClassifier\n",
        "from sklearn.linear_model import LinearRegression\n",
        "from sklearn.tree import DecisionTreeClassifier\n",
        "from sklearn.ensemble import RandomForestClassifier\n",
        "from sklearn import ensemble\n",
        "from sklearn.model_selection import train_test_split\n",
        "\n",
        "from sklearn.metrics import f1_score\n",
        "import seaborn as sns"
      ],
      "execution_count": null,
      "outputs": []
    },
    {
      "cell_type": "code",
      "metadata": {
        "colab": {
          "base_uri": "https://localhost:8080/"
        },
        "id": "JB0247gXWbLd",
        "outputId": "58012e65-4e0a-4ac0-ab45-7bba86f84e3e"
      },
      "source": [
        "nws[clusters_rec == 0].shape, nws[clusters_rec == 1].shape, nws[clusters_rec == 2].shape, nws[clusters_rec == 3].shape, nws[clusters_rec == 4].shape, nws[clusters_rec == 5].shape, nws[clusters_rec == 6].shape, nws[clusters_rec == 7].shape"
      ],
      "execution_count": null,
      "outputs": [
        {
          "output_type": "execute_result",
          "data": {
            "text/plain": [
              "((3, 7), (4, 7), (3, 7), (3, 7), (2, 7), (3, 7), (5, 7), (3, 7))"
            ]
          },
          "metadata": {},
          "execution_count": 35
        }
      ]
    },
    {
      "cell_type": "code",
      "metadata": {
        "colab": {
          "base_uri": "https://localhost:8080/"
        },
        "id": "DsYt_kDN3tug",
        "outputId": "1d3398d7-2015-4f5c-eaaa-58b5dbd97962"
      },
      "source": [
        "df[\"clusters_rnd\"] = clusters_rnd\n",
        "df[\"clusters_rec\"] = clusters_rec\n",
        "print(df)"
      ],
      "execution_count": null,
      "outputs": [
        {
          "output_type": "stream",
          "name": "stdout",
          "text": [
            "           0         1         2         3         4         5         6  \\\n",
            "0   0.054700  0.054700  0.054700  0.054700  0.054700  0.054700  0.000000   \n",
            "1   0.051373  0.051373  0.051373  0.051373  0.051373  0.051373  0.000000   \n",
            "2   0.050520  0.050520  0.050520  0.050520  0.050520  0.050520  0.000000   \n",
            "3   0.091003  0.091003  0.091003  0.091003  0.091003  0.091003  0.000000   \n",
            "4   0.052633  0.052633  0.052633  0.052633  0.052633  0.052633  0.000000   \n",
            "5   0.113693  0.113693  0.113693  0.113693  0.113693  0.113693  0.000000   \n",
            "6   0.024117  0.024117  0.024117  0.024117  0.024117  0.024117  0.000000   \n",
            "7   0.034809  0.034809  0.034809  0.034809  0.034809  0.034809  0.000000   \n",
            "8   0.101065  0.101065  0.101065  0.101065  0.101065  0.101065  0.000000   \n",
            "9   0.089510  0.089510  0.089510  0.089510  0.089510  0.089510  0.000000   \n",
            "10  0.061420  0.061420  0.061420  0.061420  0.061420  0.061420  0.392746   \n",
            "11  0.052709  0.052709  0.052709  0.052709  0.052709  0.052709  0.000000   \n",
            "12  0.055302  0.055302  0.055302  0.055302  0.055302  0.055302  0.176813   \n",
            "13  0.057799  0.057799  0.057799  0.057799  0.057799  0.057799  0.000000   \n",
            "14  0.034372  0.034372  0.034372  0.034372  0.034372  0.034372  0.000000   \n",
            "15  0.065953  0.065953  0.065953  0.065953  0.065953  0.065953  0.000000   \n",
            "16  0.043271  0.043271  0.043271  0.043271  0.043271  0.043271  0.000000   \n",
            "17  0.040271  0.040271  0.040271  0.040271  0.040271  0.040271  0.000000   \n",
            "18  0.045382  0.045382  0.045382  0.045382  0.045382  0.045382  0.000000   \n",
            "19  0.043858  0.043858  0.043858  0.043858  0.043858  0.043858  0.000000   \n",
            "20  0.046870  0.046870  0.046870  0.046870  0.046870  0.046870  0.000000   \n",
            "21  0.040773  0.040773  0.040773  0.040773  0.040773  0.040773  0.000000   \n",
            "22  0.023583  0.023583  0.023583  0.023583  0.023583  0.023583  0.000000   \n",
            "23  0.083135  0.083135  0.083135  0.083135  0.083135  0.083135  0.000000   \n",
            "24  0.040881  0.040881  0.040881  0.040881  0.040881  0.040881  0.000000   \n",
            "25  0.053914  0.053914  0.053914  0.053914  0.053914  0.053914  0.000000   \n",
            "\n",
            "           7         8         9  ...       251       252       253       254  \\\n",
            "0   0.000000  0.159151  0.000000  ...  0.000000  0.000000  0.103817  0.000000   \n",
            "1   0.149472  0.000000  0.149472  ...  0.000000  0.164251  0.000000  0.156508   \n",
            "2   0.000000  0.000000  0.000000  ...  0.000000  0.000000  0.000000  0.000000   \n",
            "3   0.264776  0.000000  0.000000  ...  0.000000  0.000000  0.000000  0.000000   \n",
            "4   0.000000  0.000000  0.000000  ...  0.000000  0.000000  0.000000  0.080172   \n",
            "5   0.000000  0.000000  0.000000  ...  0.000000  0.000000  0.215783  0.000000   \n",
            "6   0.000000  0.000000  0.140340  ...  0.000000  0.000000  0.045773  0.073473   \n",
            "7   0.000000  0.000000  0.000000  ...  0.000000  0.000000  0.000000  0.053022   \n",
            "8   0.000000  0.000000  0.000000  ...  0.000000  0.000000  0.000000  0.000000   \n",
            "9   0.000000  0.000000  0.000000  ...  0.000000  0.000000  0.000000  0.000000   \n",
            "10  0.000000  0.000000  0.000000  ...  0.000000  0.000000  0.116571  0.093558   \n",
            "11  0.000000  0.000000  0.000000  ...  0.000000  0.000000  0.100040  0.000000   \n",
            "12  0.000000  0.000000  0.000000  ...  0.000000  0.000000  0.104960  0.084239   \n",
            "13  0.000000  0.000000  0.000000  ...  0.168169  0.000000  0.109699  0.000000   \n",
            "14  0.000000  0.000000  0.000000  ...  0.000000  0.000000  0.000000  0.157069   \n",
            "15  0.575677  0.000000  0.000000  ...  0.000000  0.000000  0.125175  0.100462   \n",
            "16  0.000000  0.000000  0.000000  ...  0.251797  0.000000  0.000000  0.065912   \n",
            "17  0.000000  0.117171  0.000000  ...  0.000000  0.000000  0.000000  0.061343   \n",
            "18  0.000000  0.000000  0.000000  ...  0.132041  0.000000  0.000000  0.000000   \n",
            "19  0.000000  0.000000  0.000000  ...  0.000000  0.000000  0.000000  0.200421   \n",
            "20  0.000000  0.000000  0.136372  ...  0.000000  0.000000  0.088957  0.000000   \n",
            "21  0.000000  0.118631  0.000000  ...  0.000000  0.000000  0.077385  0.124215   \n",
            "22  0.000000  0.000000  0.000000  ...  0.000000  0.150798  0.000000  0.215533   \n",
            "23  0.000000  0.000000  0.000000  ...  0.000000  0.000000  0.000000  0.126636   \n",
            "24  0.000000  0.000000  0.000000  ...  0.000000  0.000000  0.000000  0.062272   \n",
            "25  0.000000  0.000000  0.000000  ...  0.000000  0.000000  0.000000  0.000000   \n",
            "\n",
            "         255       256       257       258  clusters_rnd  clusters_rec  \n",
            "0   0.000000  0.054700  0.000000  0.000000             9             6  \n",
            "1   0.000000  0.051373  0.061894  0.000000             4             2  \n",
            "2   0.000000  0.050520  0.000000  0.000000             1             5  \n",
            "3   0.000000  0.091003  0.000000  0.000000             4             2  \n",
            "4   0.000000  0.052633  0.063411  0.000000             8             0  \n",
            "5   0.000000  0.113693  0.136977  0.000000             6             6  \n",
            "6   0.000000  0.024117  0.029056  0.210510             2             0  \n",
            "7   0.000000  0.034809  0.083875  0.101277             8             0  \n",
            "8   0.000000  0.101065  0.121763  0.000000             6             6  \n",
            "9   0.000000  0.089510  0.000000  0.000000             1             5  \n",
            "10  0.000000  0.061420  0.073998  0.000000             7             6  \n",
            "11  0.168524  0.052709  0.063504  0.000000             3             3  \n",
            "12  0.000000  0.055302  0.066628  0.000000             7             6  \n",
            "13  0.184797  0.057799  0.069636  0.000000             3             3  \n",
            "14  0.000000  0.034372  0.082821  0.000000            12             1  \n",
            "15  0.000000  0.065953  0.000000  0.000000             4             2  \n",
            "16  0.000000  0.043271  0.104265  0.000000            13             3  \n",
            "17  0.000000  0.040271  0.145556  0.000000            10             4  \n",
            "18  0.000000  0.045382  0.054676  0.000000            13             1  \n",
            "19  0.000000  0.043858  0.052840  0.000000            11             1  \n",
            "20  0.000000  0.046870  0.225877  0.136372             5             7  \n",
            "21  0.000000  0.040773  0.098247  0.000000             5             7  \n",
            "22  0.000000  0.023583  0.085237  0.000000            10             4  \n",
            "23  0.000000  0.083135  0.100161  0.000000             0             1  \n",
            "24  0.000000  0.040881  0.049253  0.000000             2             5  \n",
            "25  0.000000  0.053914  0.064955  0.000000             5             7  \n",
            "\n",
            "[26 rows x 261 columns]\n"
          ]
        }
      ]
    },
    {
      "cell_type": "code",
      "metadata": {
        "id": "AzE_u8egxbd0"
      },
      "source": [
        "X_train, X_test, Y_train, Y_test = train_test_split(df.iloc[:,0:2528], df['clusters_rec'], random_state=0)"
      ],
      "execution_count": null,
      "outputs": []
    },
    {
      "cell_type": "code",
      "metadata": {
        "colab": {
          "base_uri": "https://localhost:8080/"
        },
        "id": "I5PXJc-lxg1-",
        "outputId": "8631a053-267d-4e6f-87bb-1723ce9a6673"
      },
      "source": [
        "clf=LinearRegression()\n",
        "clf=clf.fit(X_train,Y_train)\n",
        "\n",
        "clf.score(X_test,Y_test)"
      ],
      "execution_count": null,
      "outputs": [
        {
          "output_type": "stream",
          "name": "stderr",
          "text": [
            "/usr/local/lib/python3.7/dist-packages/sklearn/utils/validation.py:1692: FutureWarning: Feature names only support names that are all strings. Got feature names with dtypes: ['int', 'str']. An error will be raised in 1.2.\n",
            "  FutureWarning,\n",
            "/usr/local/lib/python3.7/dist-packages/sklearn/utils/validation.py:1692: FutureWarning: Feature names only support names that are all strings. Got feature names with dtypes: ['int', 'str']. An error will be raised in 1.2.\n",
            "  FutureWarning,\n"
          ]
        },
        {
          "output_type": "execute_result",
          "data": {
            "text/plain": [
              "0.9999546125265132"
            ]
          },
          "metadata": {},
          "execution_count": 38
        }
      ]
    },
    {
      "cell_type": "code",
      "metadata": {
        "colab": {
          "base_uri": "https://localhost:8080/"
        },
        "id": "PUcQRHde8go5",
        "outputId": "90acf2d6-2dc9-4de1-8384-c74f52e32190"
      },
      "source": [
        "clf=DecisionTreeClassifier()\n",
        "\n",
        "clf=clf.fit(X_train,Y_train)\n",
        "\n",
        "Y_pred=clf.predict(X_test)\n",
        "\n",
        "print(\"Accuracy on training set: {:.3f}\".format(clf.score(X_train,Y_train)))\n",
        "print(\"Accuracy on test set: {:.3f}\".format(clf.score(X_test,Y_test)))\n",
        "print(\"f1 accuracy: {:.3f}\".format(f1_score(Y_test, Y_pred,  average='weighted')))"
      ],
      "execution_count": null,
      "outputs": [
        {
          "output_type": "stream",
          "name": "stdout",
          "text": [
            "Accuracy on training set: 1.000\n",
            "Accuracy on test set: 0.714\n",
            "f1 accuracy: 0.619\n"
          ]
        },
        {
          "output_type": "stream",
          "name": "stderr",
          "text": [
            "/usr/local/lib/python3.7/dist-packages/sklearn/utils/validation.py:1692: FutureWarning: Feature names only support names that are all strings. Got feature names with dtypes: ['int', 'str']. An error will be raised in 1.2.\n",
            "  FutureWarning,\n",
            "/usr/local/lib/python3.7/dist-packages/sklearn/utils/validation.py:1692: FutureWarning: Feature names only support names that are all strings. Got feature names with dtypes: ['int', 'str']. An error will be raised in 1.2.\n",
            "  FutureWarning,\n",
            "/usr/local/lib/python3.7/dist-packages/sklearn/utils/validation.py:1692: FutureWarning: Feature names only support names that are all strings. Got feature names with dtypes: ['int', 'str']. An error will be raised in 1.2.\n",
            "  FutureWarning,\n",
            "/usr/local/lib/python3.7/dist-packages/sklearn/utils/validation.py:1692: FutureWarning: Feature names only support names that are all strings. Got feature names with dtypes: ['int', 'str']. An error will be raised in 1.2.\n",
            "  FutureWarning,\n"
          ]
        }
      ]
    },
    {
      "cell_type": "code",
      "metadata": {
        "colab": {
          "base_uri": "https://localhost:8080/",
          "height": 228
        },
        "id": "hQOdmAyWmPFV",
        "outputId": "cb9f9270-fd30-4ad4-b565-2a60f67c5747"
      },
      "source": [
        "from sklearn.metrics import confusion_matrix\n",
        "confusion_matrix(Y_test, clf.predict(X_test))\n",
        "matrix = confusion_matrix(Y_test, clf.predict(X_test))\n",
        "matrix = matrix.astype('float') / matrix.sum(axis=1)[:, np.newaxis]\n",
        "plt.figure(figsize=(15,6))\n",
        "sns.set(font_scale=1)\n",
        "sns.heatmap(matrix, annot=True, annot_kws={'size':10},\n",
        "            cmap=plt.cm.Reds, linewidths=0.2)\n",
        "class_names = ['Публикация', 'Бизнес', 'Афиша', 'Погода', 'Банки', 'Тесты', 'Форум', 'Спецпроекты']  \n",
        "tick_marks = np.arange(len(class_names))\n",
        "tick_marks2 = tick_marks + 0.5\n",
        "plt.xticks(tick_marks, class_names, rotation=0)\n",
        "plt.yticks(tick_marks2, class_names, rotation=0)\n",
        "plt.xlabel('Предсказанные классы')\n",
        "plt.ylabel('Истинные классы')\n",
        "plt.title('Confusion Matrix for Decision Tree Classifier')\n",
        "plt.show()"
      ],
      "execution_count": null,
      "outputs": [
        {
          "output_type": "stream",
          "name": "stderr",
          "text": [
            "/usr/local/lib/python3.7/dist-packages/sklearn/utils/validation.py:1692: FutureWarning: Feature names only support names that are all strings. Got feature names with dtypes: ['int', 'str']. An error will be raised in 1.2.\n",
            "  FutureWarning,\n",
            "/usr/local/lib/python3.7/dist-packages/sklearn/utils/validation.py:1692: FutureWarning: Feature names only support names that are all strings. Got feature names with dtypes: ['int', 'str']. An error will be raised in 1.2.\n",
            "  FutureWarning,\n"
          ]
        },
        {
          "output_type": "display_data",
          "data": {
            "text/plain": [
              "<Figure size 1080x432 with 2 Axes>"
            ],
            "image/png": "[encoded data removed]"
          },
          "metadata": {}
        }
      ]
    },
    {
      "cell_type": "code",
      "metadata": {
        "colab": {
          "base_uri": "https://localhost:8080/"
        },
        "id": "R5qL48-M9Vsd",
        "outputId": "9a4445a1-e74f-48fa-9de0-0a9a69b76e1a"
      },
      "source": [
        "clf=RandomForestClassifier(criterion=\"entropy\")\n",
        "\n",
        "clf=clf.fit(X_train,Y_train)\n",
        "\n",
        "\n",
        "Y_pred=clf.predict(X_test)\n",
        "\n",
        "print(\"Accuracy on training set: {:.3f}\".format(clf.score(X_train,Y_train)))\n",
        "print(\"Accuracy on test set: {:.3f}\".format(clf.score(X_test,Y_test)))\n",
        "print(\"f1 accuracy: {:.3f}\".format(f1_score(Y_test, Y_pred,  average='weighted')))"
      ],
      "execution_count": null,
      "outputs": [
        {
          "output_type": "stream",
          "name": "stdout",
          "text": [
            "Accuracy on training set: 1.000\n",
            "Accuracy on test set: 0.429\n",
            "f1 accuracy: 0.429\n"
          ]
        },
        {
          "output_type": "stream",
          "name": "stderr",
          "text": [
            "/usr/local/lib/python3.7/dist-packages/sklearn/utils/validation.py:1692: FutureWarning: Feature names only support names that are all strings. Got feature names with dtypes: ['int', 'str']. An error will be raised in 1.2.\n",
            "  FutureWarning,\n",
            "/usr/local/lib/python3.7/dist-packages/sklearn/utils/validation.py:1692: FutureWarning: Feature names only support names that are all strings. Got feature names with dtypes: ['int', 'str']. An error will be raised in 1.2.\n",
            "  FutureWarning,\n",
            "/usr/local/lib/python3.7/dist-packages/sklearn/utils/validation.py:1692: FutureWarning: Feature names only support names that are all strings. Got feature names with dtypes: ['int', 'str']. An error will be raised in 1.2.\n",
            "  FutureWarning,\n",
            "/usr/local/lib/python3.7/dist-packages/sklearn/utils/validation.py:1692: FutureWarning: Feature names only support names that are all strings. Got feature names with dtypes: ['int', 'str']. An error will be raised in 1.2.\n",
            "  FutureWarning,\n"
          ]
        }
      ]
    },
    {
      "cell_type": "code",
      "metadata": {
        "id": "Dp41KPGci6Ih",
        "colab": {
          "base_uri": "https://localhost:8080/",
          "height": 263
        },
        "outputId": "405c4377-dfb4-43a2-b141-78d8b0df1159"
      },
      "source": [
        "from sklearn.metrics import confusion_matrix\n",
        "confusion_matrix(Y_test, clf.predict(X_test))\n",
        "matrix = confusion_matrix(Y_test, clf.predict(X_test))\n",
        "matrix = matrix.astype('float') / matrix.sum(axis=1)[:, np.newaxis]\n",
        "plt.figure(figsize=(15,6))\n",
        "sns.set(font_scale=1)\n",
        "sns.heatmap(matrix, annot=True, annot_kws={'size':10},\n",
        "            cmap=plt.cm.Reds, linewidths=0.2)\n",
        "class_names = ['Публикация', 'Бизнес', 'Афиша', 'Погода', 'Банки', 'Тесты', 'Форум', 'Спецпроекты'] \n",
        "tick_marks = np.arange(len(class_names))\n",
        "tick_marks2 = tick_marks + 0.5\n",
        "plt.xticks(tick_marks, class_names, rotation=0)\n",
        "plt.yticks(tick_marks2, class_names, rotation=0)\n",
        "plt.xlabel('Предсказанные классы')\n",
        "plt.ylabel('Истинные классы')\n",
        "plt.title('Confusion Matrix')\n",
        "plt.show()"
      ],
      "execution_count": null,
      "outputs": [
        {
          "output_type": "stream",
          "name": "stderr",
          "text": [
            "/usr/local/lib/python3.7/dist-packages/sklearn/utils/validation.py:1692: FutureWarning: Feature names only support names that are all strings. Got feature names with dtypes: ['int', 'str']. An error will be raised in 1.2.\n",
            "  FutureWarning,\n",
            "/usr/local/lib/python3.7/dist-packages/sklearn/utils/validation.py:1692: FutureWarning: Feature names only support names that are all strings. Got feature names with dtypes: ['int', 'str']. An error will be raised in 1.2.\n",
            "  FutureWarning,\n",
            "/usr/local/lib/python3.7/dist-packages/ipykernel_launcher.py:4: RuntimeWarning: invalid value encountered in true_divide\n",
            "  after removing the cwd from sys.path.\n"
          ]
        },
        {
          "output_type": "display_data",
          "data": {
            "text/plain": [
              "<Figure size 1080x432 with 2 Axes>"
            ],
            "image/png": "[encoded data removed]"
          },
          "metadata": {}
        }
      ]
    }
  ]
}